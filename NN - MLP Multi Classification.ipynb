{
 "cells": [
  {
   "cell_type": "code",
   "execution_count": 1,
   "metadata": {
    "ExecuteTime": {
     "end_time": "2020-11-06T18:54:04.970560Z",
     "start_time": "2020-11-06T18:54:03.155955Z"
    }
   },
   "outputs": [
    {
     "data": {
      "text/plain": [
       "'C:\\\\Users\\\\Admin'"
      ]
     },
     "execution_count": 1,
     "metadata": {},
     "output_type": "execute_result"
    }
   ],
   "source": [
    "import seaborn as sns\n",
    "import pandas as pd\n",
    "import numpy as np\n",
    "import os\n",
    "os.getcwd()"
   ]
  },
  {
   "cell_type": "code",
   "execution_count": 2,
   "metadata": {
    "ExecuteTime": {
     "end_time": "2020-11-06T18:54:04.980533Z",
     "start_time": "2020-11-06T18:54:04.974550Z"
    }
   },
   "outputs": [],
   "source": [
    "os.chdir('C:\\\\Users\\\\Admin\\\\Downloads')"
   ]
  },
  {
   "cell_type": "code",
   "execution_count": 3,
   "metadata": {
    "ExecuteTime": {
     "end_time": "2020-11-06T18:54:05.035385Z",
     "start_time": "2020-11-06T18:54:04.984523Z"
    }
   },
   "outputs": [
    {
     "data": {
      "text/html": [
       "<div>\n",
       "<style scoped>\n",
       "    .dataframe tbody tr th:only-of-type {\n",
       "        vertical-align: middle;\n",
       "    }\n",
       "\n",
       "    .dataframe tbody tr th {\n",
       "        vertical-align: top;\n",
       "    }\n",
       "\n",
       "    .dataframe thead th {\n",
       "        text-align: right;\n",
       "    }\n",
       "</style>\n",
       "<table border=\"1\" class=\"dataframe\">\n",
       "  <thead>\n",
       "    <tr style=\"text-align: right;\">\n",
       "      <th></th>\n",
       "      <th>fixed acidity</th>\n",
       "      <th>volatile acidity</th>\n",
       "      <th>citric acid</th>\n",
       "      <th>residual sugar</th>\n",
       "      <th>chlorides</th>\n",
       "      <th>free sulfur dioxide</th>\n",
       "      <th>total sulfur dioxide</th>\n",
       "      <th>density</th>\n",
       "      <th>pH</th>\n",
       "      <th>sulphates</th>\n",
       "      <th>alcohol</th>\n",
       "      <th>quality</th>\n",
       "    </tr>\n",
       "  </thead>\n",
       "  <tbody>\n",
       "    <tr>\n",
       "      <th>0</th>\n",
       "      <td>7.4</td>\n",
       "      <td>0.700</td>\n",
       "      <td>0.00</td>\n",
       "      <td>1.9</td>\n",
       "      <td>0.076</td>\n",
       "      <td>11.0</td>\n",
       "      <td>34.0</td>\n",
       "      <td>0.99780</td>\n",
       "      <td>3.51</td>\n",
       "      <td>0.56</td>\n",
       "      <td>9.4</td>\n",
       "      <td>5</td>\n",
       "    </tr>\n",
       "    <tr>\n",
       "      <th>1</th>\n",
       "      <td>7.8</td>\n",
       "      <td>0.880</td>\n",
       "      <td>0.00</td>\n",
       "      <td>2.6</td>\n",
       "      <td>0.098</td>\n",
       "      <td>25.0</td>\n",
       "      <td>67.0</td>\n",
       "      <td>0.99680</td>\n",
       "      <td>3.20</td>\n",
       "      <td>0.68</td>\n",
       "      <td>9.8</td>\n",
       "      <td>5</td>\n",
       "    </tr>\n",
       "    <tr>\n",
       "      <th>2</th>\n",
       "      <td>7.8</td>\n",
       "      <td>0.760</td>\n",
       "      <td>0.04</td>\n",
       "      <td>2.3</td>\n",
       "      <td>0.092</td>\n",
       "      <td>15.0</td>\n",
       "      <td>54.0</td>\n",
       "      <td>0.99700</td>\n",
       "      <td>3.26</td>\n",
       "      <td>0.65</td>\n",
       "      <td>9.8</td>\n",
       "      <td>5</td>\n",
       "    </tr>\n",
       "    <tr>\n",
       "      <th>3</th>\n",
       "      <td>11.2</td>\n",
       "      <td>0.280</td>\n",
       "      <td>0.56</td>\n",
       "      <td>1.9</td>\n",
       "      <td>0.075</td>\n",
       "      <td>17.0</td>\n",
       "      <td>60.0</td>\n",
       "      <td>0.99800</td>\n",
       "      <td>3.16</td>\n",
       "      <td>0.58</td>\n",
       "      <td>9.8</td>\n",
       "      <td>6</td>\n",
       "    </tr>\n",
       "    <tr>\n",
       "      <th>4</th>\n",
       "      <td>7.4</td>\n",
       "      <td>0.700</td>\n",
       "      <td>0.00</td>\n",
       "      <td>1.9</td>\n",
       "      <td>0.076</td>\n",
       "      <td>11.0</td>\n",
       "      <td>34.0</td>\n",
       "      <td>0.99780</td>\n",
       "      <td>3.51</td>\n",
       "      <td>0.56</td>\n",
       "      <td>9.4</td>\n",
       "      <td>5</td>\n",
       "    </tr>\n",
       "    <tr>\n",
       "      <th>...</th>\n",
       "      <td>...</td>\n",
       "      <td>...</td>\n",
       "      <td>...</td>\n",
       "      <td>...</td>\n",
       "      <td>...</td>\n",
       "      <td>...</td>\n",
       "      <td>...</td>\n",
       "      <td>...</td>\n",
       "      <td>...</td>\n",
       "      <td>...</td>\n",
       "      <td>...</td>\n",
       "      <td>...</td>\n",
       "    </tr>\n",
       "    <tr>\n",
       "      <th>1594</th>\n",
       "      <td>6.2</td>\n",
       "      <td>0.600</td>\n",
       "      <td>0.08</td>\n",
       "      <td>2.0</td>\n",
       "      <td>0.090</td>\n",
       "      <td>32.0</td>\n",
       "      <td>44.0</td>\n",
       "      <td>0.99490</td>\n",
       "      <td>3.45</td>\n",
       "      <td>0.58</td>\n",
       "      <td>10.5</td>\n",
       "      <td>5</td>\n",
       "    </tr>\n",
       "    <tr>\n",
       "      <th>1595</th>\n",
       "      <td>5.9</td>\n",
       "      <td>0.550</td>\n",
       "      <td>0.10</td>\n",
       "      <td>2.2</td>\n",
       "      <td>0.062</td>\n",
       "      <td>39.0</td>\n",
       "      <td>51.0</td>\n",
       "      <td>0.99512</td>\n",
       "      <td>3.52</td>\n",
       "      <td>0.76</td>\n",
       "      <td>11.2</td>\n",
       "      <td>6</td>\n",
       "    </tr>\n",
       "    <tr>\n",
       "      <th>1596</th>\n",
       "      <td>6.3</td>\n",
       "      <td>0.510</td>\n",
       "      <td>0.13</td>\n",
       "      <td>2.3</td>\n",
       "      <td>0.076</td>\n",
       "      <td>29.0</td>\n",
       "      <td>40.0</td>\n",
       "      <td>0.99574</td>\n",
       "      <td>3.42</td>\n",
       "      <td>0.75</td>\n",
       "      <td>11.0</td>\n",
       "      <td>6</td>\n",
       "    </tr>\n",
       "    <tr>\n",
       "      <th>1597</th>\n",
       "      <td>5.9</td>\n",
       "      <td>0.645</td>\n",
       "      <td>0.12</td>\n",
       "      <td>2.0</td>\n",
       "      <td>0.075</td>\n",
       "      <td>32.0</td>\n",
       "      <td>44.0</td>\n",
       "      <td>0.99547</td>\n",
       "      <td>3.57</td>\n",
       "      <td>0.71</td>\n",
       "      <td>10.2</td>\n",
       "      <td>5</td>\n",
       "    </tr>\n",
       "    <tr>\n",
       "      <th>1598</th>\n",
       "      <td>6.0</td>\n",
       "      <td>0.310</td>\n",
       "      <td>0.47</td>\n",
       "      <td>3.6</td>\n",
       "      <td>0.067</td>\n",
       "      <td>18.0</td>\n",
       "      <td>42.0</td>\n",
       "      <td>0.99549</td>\n",
       "      <td>3.39</td>\n",
       "      <td>0.66</td>\n",
       "      <td>11.0</td>\n",
       "      <td>6</td>\n",
       "    </tr>\n",
       "  </tbody>\n",
       "</table>\n",
       "<p>1599 rows × 12 columns</p>\n",
       "</div>"
      ],
      "text/plain": [
       "      fixed acidity  volatile acidity  citric acid  residual sugar  chlorides  \\\n",
       "0               7.4             0.700         0.00             1.9      0.076   \n",
       "1               7.8             0.880         0.00             2.6      0.098   \n",
       "2               7.8             0.760         0.04             2.3      0.092   \n",
       "3              11.2             0.280         0.56             1.9      0.075   \n",
       "4               7.4             0.700         0.00             1.9      0.076   \n",
       "...             ...               ...          ...             ...        ...   \n",
       "1594            6.2             0.600         0.08             2.0      0.090   \n",
       "1595            5.9             0.550         0.10             2.2      0.062   \n",
       "1596            6.3             0.510         0.13             2.3      0.076   \n",
       "1597            5.9             0.645         0.12             2.0      0.075   \n",
       "1598            6.0             0.310         0.47             3.6      0.067   \n",
       "\n",
       "      free sulfur dioxide  total sulfur dioxide  density    pH  sulphates  \\\n",
       "0                    11.0                  34.0  0.99780  3.51       0.56   \n",
       "1                    25.0                  67.0  0.99680  3.20       0.68   \n",
       "2                    15.0                  54.0  0.99700  3.26       0.65   \n",
       "3                    17.0                  60.0  0.99800  3.16       0.58   \n",
       "4                    11.0                  34.0  0.99780  3.51       0.56   \n",
       "...                   ...                   ...      ...   ...        ...   \n",
       "1594                 32.0                  44.0  0.99490  3.45       0.58   \n",
       "1595                 39.0                  51.0  0.99512  3.52       0.76   \n",
       "1596                 29.0                  40.0  0.99574  3.42       0.75   \n",
       "1597                 32.0                  44.0  0.99547  3.57       0.71   \n",
       "1598                 18.0                  42.0  0.99549  3.39       0.66   \n",
       "\n",
       "      alcohol  quality  \n",
       "0         9.4        5  \n",
       "1         9.8        5  \n",
       "2         9.8        5  \n",
       "3         9.8        6  \n",
       "4         9.4        5  \n",
       "...       ...      ...  \n",
       "1594     10.5        5  \n",
       "1595     11.2        6  \n",
       "1596     11.0        6  \n",
       "1597     10.2        5  \n",
       "1598     11.0        6  \n",
       "\n",
       "[1599 rows x 12 columns]"
      ]
     },
     "execution_count": 3,
     "metadata": {},
     "output_type": "execute_result"
    }
   ],
   "source": [
    "## Read dataset\n",
    "\n",
    "df = pd.read_csv('wine_data (1).csv')\n",
    "df"
   ]
  },
  {
   "cell_type": "code",
   "execution_count": 4,
   "metadata": {
    "ExecuteTime": {
     "end_time": "2020-11-06T18:54:05.051343Z",
     "start_time": "2020-11-06T18:54:05.038379Z"
    }
   },
   "outputs": [
    {
     "data": {
      "text/plain": [
       "5    681\n",
       "6    638\n",
       "7    199\n",
       "4     53\n",
       "8     18\n",
       "3     10\n",
       "Name: quality, dtype: int64"
      ]
     },
     "execution_count": 4,
     "metadata": {},
     "output_type": "execute_result"
    }
   ],
   "source": [
    "df['quality'].value_counts()"
   ]
  },
  {
   "cell_type": "code",
   "execution_count": 5,
   "metadata": {
    "ExecuteTime": {
     "end_time": "2020-11-06T18:54:05.069296Z",
     "start_time": "2020-11-06T18:54:05.055332Z"
    }
   },
   "outputs": [
    {
     "data": {
      "text/plain": [
       "fixed acidity           0\n",
       "volatile acidity        0\n",
       "citric acid             0\n",
       "residual sugar          0\n",
       "chlorides               0\n",
       "free sulfur dioxide     0\n",
       "total sulfur dioxide    0\n",
       "density                 0\n",
       "pH                      0\n",
       "sulphates               0\n",
       "alcohol                 0\n",
       "quality                 0\n",
       "dtype: int64"
      ]
     },
     "execution_count": 5,
     "metadata": {},
     "output_type": "execute_result"
    }
   ],
   "source": [
    "## checking na values\n",
    "\n",
    "df.isnull().sum()"
   ]
  },
  {
   "cell_type": "code",
   "execution_count": 6,
   "metadata": {
    "ExecuteTime": {
     "end_time": "2020-11-06T18:54:05.088269Z",
     "start_time": "2020-11-06T18:54:05.072288Z"
    }
   },
   "outputs": [
    {
     "data": {
      "text/plain": [
       "240"
      ]
     },
     "execution_count": 6,
     "metadata": {},
     "output_type": "execute_result"
    }
   ],
   "source": [
    "## chceking duplicates\n",
    "\n",
    "df.duplicated().sum()"
   ]
  },
  {
   "cell_type": "code",
   "execution_count": 7,
   "metadata": {
    "ExecuteTime": {
     "end_time": "2020-11-06T18:54:05.130132Z",
     "start_time": "2020-11-06T18:54:05.091239Z"
    }
   },
   "outputs": [
    {
     "data": {
      "text/html": [
       "<div>\n",
       "<style scoped>\n",
       "    .dataframe tbody tr th:only-of-type {\n",
       "        vertical-align: middle;\n",
       "    }\n",
       "\n",
       "    .dataframe tbody tr th {\n",
       "        vertical-align: top;\n",
       "    }\n",
       "\n",
       "    .dataframe thead th {\n",
       "        text-align: right;\n",
       "    }\n",
       "</style>\n",
       "<table border=\"1\" class=\"dataframe\">\n",
       "  <thead>\n",
       "    <tr style=\"text-align: right;\">\n",
       "      <th></th>\n",
       "      <th>fixed acidity</th>\n",
       "      <th>volatile acidity</th>\n",
       "      <th>citric acid</th>\n",
       "      <th>residual sugar</th>\n",
       "      <th>chlorides</th>\n",
       "      <th>free sulfur dioxide</th>\n",
       "      <th>total sulfur dioxide</th>\n",
       "      <th>density</th>\n",
       "      <th>pH</th>\n",
       "      <th>sulphates</th>\n",
       "      <th>alcohol</th>\n",
       "      <th>quality</th>\n",
       "    </tr>\n",
       "  </thead>\n",
       "  <tbody>\n",
       "    <tr>\n",
       "      <th>0</th>\n",
       "      <td>7.4</td>\n",
       "      <td>0.70</td>\n",
       "      <td>0.00</td>\n",
       "      <td>1.9</td>\n",
       "      <td>0.076</td>\n",
       "      <td>11.0</td>\n",
       "      <td>34.0</td>\n",
       "      <td>0.9978</td>\n",
       "      <td>3.51</td>\n",
       "      <td>0.56</td>\n",
       "      <td>9.4</td>\n",
       "      <td>5</td>\n",
       "    </tr>\n",
       "    <tr>\n",
       "      <th>1</th>\n",
       "      <td>7.8</td>\n",
       "      <td>0.88</td>\n",
       "      <td>0.00</td>\n",
       "      <td>2.6</td>\n",
       "      <td>0.098</td>\n",
       "      <td>25.0</td>\n",
       "      <td>67.0</td>\n",
       "      <td>0.9968</td>\n",
       "      <td>3.20</td>\n",
       "      <td>0.68</td>\n",
       "      <td>9.8</td>\n",
       "      <td>5</td>\n",
       "    </tr>\n",
       "    <tr>\n",
       "      <th>2</th>\n",
       "      <td>7.8</td>\n",
       "      <td>0.76</td>\n",
       "      <td>0.04</td>\n",
       "      <td>2.3</td>\n",
       "      <td>0.092</td>\n",
       "      <td>15.0</td>\n",
       "      <td>54.0</td>\n",
       "      <td>0.9970</td>\n",
       "      <td>3.26</td>\n",
       "      <td>0.65</td>\n",
       "      <td>9.8</td>\n",
       "      <td>5</td>\n",
       "    </tr>\n",
       "    <tr>\n",
       "      <th>3</th>\n",
       "      <td>11.2</td>\n",
       "      <td>0.28</td>\n",
       "      <td>0.56</td>\n",
       "      <td>1.9</td>\n",
       "      <td>0.075</td>\n",
       "      <td>17.0</td>\n",
       "      <td>60.0</td>\n",
       "      <td>0.9980</td>\n",
       "      <td>3.16</td>\n",
       "      <td>0.58</td>\n",
       "      <td>9.8</td>\n",
       "      <td>6</td>\n",
       "    </tr>\n",
       "    <tr>\n",
       "      <th>5</th>\n",
       "      <td>7.4</td>\n",
       "      <td>0.66</td>\n",
       "      <td>0.00</td>\n",
       "      <td>1.8</td>\n",
       "      <td>0.075</td>\n",
       "      <td>13.0</td>\n",
       "      <td>40.0</td>\n",
       "      <td>0.9978</td>\n",
       "      <td>3.51</td>\n",
       "      <td>0.56</td>\n",
       "      <td>9.4</td>\n",
       "      <td>5</td>\n",
       "    </tr>\n",
       "  </tbody>\n",
       "</table>\n",
       "</div>"
      ],
      "text/plain": [
       "   fixed acidity  volatile acidity  citric acid  residual sugar  chlorides  \\\n",
       "0            7.4              0.70         0.00             1.9      0.076   \n",
       "1            7.8              0.88         0.00             2.6      0.098   \n",
       "2            7.8              0.76         0.04             2.3      0.092   \n",
       "3           11.2              0.28         0.56             1.9      0.075   \n",
       "5            7.4              0.66         0.00             1.8      0.075   \n",
       "\n",
       "   free sulfur dioxide  total sulfur dioxide  density    pH  sulphates  \\\n",
       "0                 11.0                  34.0   0.9978  3.51       0.56   \n",
       "1                 25.0                  67.0   0.9968  3.20       0.68   \n",
       "2                 15.0                  54.0   0.9970  3.26       0.65   \n",
       "3                 17.0                  60.0   0.9980  3.16       0.58   \n",
       "5                 13.0                  40.0   0.9978  3.51       0.56   \n",
       "\n",
       "   alcohol  quality  \n",
       "0      9.4        5  \n",
       "1      9.8        5  \n",
       "2      9.8        5  \n",
       "3      9.8        6  \n",
       "5      9.4        5  "
      ]
     },
     "execution_count": 7,
     "metadata": {},
     "output_type": "execute_result"
    }
   ],
   "source": [
    "## dropping duplicates\n",
    "\n",
    "df.drop_duplicates(inplace = True)\n",
    "\n",
    "df.head()"
   ]
  },
  {
   "cell_type": "code",
   "execution_count": 8,
   "metadata": {
    "ExecuteTime": {
     "end_time": "2020-11-06T18:54:05.149082Z",
     "start_time": "2020-11-06T18:54:05.136116Z"
    }
   },
   "outputs": [
    {
     "data": {
      "text/plain": [
       "0"
      ]
     },
     "execution_count": 8,
     "metadata": {},
     "output_type": "execute_result"
    }
   ],
   "source": [
    "df.duplicated().sum()"
   ]
  },
  {
   "cell_type": "markdown",
   "metadata": {},
   "source": [
    "## Removing outiers from numerical variables"
   ]
  },
  {
   "cell_type": "markdown",
   "metadata": {
    "ExecuteTime": {
     "end_time": "2020-11-06T18:17:05.300936Z",
     "start_time": "2020-11-06T18:17:05.295949Z"
    }
   },
   "source": [
    "### Fixed Acidity"
   ]
  },
  {
   "cell_type": "code",
   "execution_count": 9,
   "metadata": {
    "ExecuteTime": {
     "end_time": "2020-11-06T18:54:05.343562Z",
     "start_time": "2020-11-06T18:54:05.152076Z"
    }
   },
   "outputs": [
    {
     "data": {
      "text/plain": [
       "<matplotlib.axes._subplots.AxesSubplot at 0x24f9ead6748>"
      ]
     },
     "execution_count": 9,
     "metadata": {},
     "output_type": "execute_result"
    },
    {
     "data": {
      "image/png": "[encoded data removed]",
      "text/plain": [
       "<Figure size 432x288 with 1 Axes>"
      ]
     },
     "metadata": {
      "needs_background": "light"
     },
     "output_type": "display_data"
    }
   ],
   "source": [
    "sns.boxplot(df['fixed acidity'])"
   ]
  },
  {
   "cell_type": "code",
   "execution_count": 10,
   "metadata": {
    "ExecuteTime": {
     "end_time": "2020-11-06T18:54:05.579933Z",
     "start_time": "2020-11-06T18:54:05.347554Z"
    }
   },
   "outputs": [
    {
     "data": {
      "text/plain": [
       "<matplotlib.axes._subplots.AxesSubplot at 0x24f9f1ffb88>"
      ]
     },
     "execution_count": 10,
     "metadata": {},
     "output_type": "execute_result"
    },
    {
     "data": {
      "image/png": "[encoded data removed]",
      "text/plain": [
       "<Figure size 432x288 with 1 Axes>"
      ]
     },
     "metadata": {
      "needs_background": "light"
     },
     "output_type": "display_data"
    }
   ],
   "source": [
    "df['fixed acidity'].quantile(np.arange(0,1.01,0.01)).plot(kind = 'line', marker = 'o')"
   ]
  },
  {
   "cell_type": "code",
   "execution_count": 11,
   "metadata": {
    "ExecuteTime": {
     "end_time": "2020-11-06T18:54:05.598879Z",
     "start_time": "2020-11-06T18:54:05.582921Z"
    }
   },
   "outputs": [
    {
     "name": "stdout",
     "output_type": "stream",
     "text": [
      "0.00     4.600\n",
      "0.01     5.200\n",
      "0.02     5.516\n",
      "0.03     5.774\n",
      "0.04     6.000\n",
      "         ...  \n",
      "0.96    11.968\n",
      "0.97    12.326\n",
      "0.98    12.600\n",
      "0.99    13.242\n",
      "1.00    15.900\n",
      "Name: fixed acidity, Length: 101, dtype: float64\n"
     ]
    }
   ],
   "source": [
    "print(df['fixed acidity'].quantile(np.arange(0,1.01,0.01)))"
   ]
  },
  {
   "cell_type": "code",
   "execution_count": 12,
   "metadata": {
    "ExecuteTime": {
     "end_time": "2020-11-06T18:54:05.808343Z",
     "start_time": "2020-11-06T18:54:05.602867Z"
    }
   },
   "outputs": [
    {
     "data": {
      "text/plain": [
       "<matplotlib.axes._subplots.AxesSubplot at 0x24f9f3438c8>"
      ]
     },
     "execution_count": 12,
     "metadata": {},
     "output_type": "execute_result"
    },
    {
     "data": {
      "image/png": "[encoded data removed]",
      "text/plain": [
       "<Figure size 432x288 with 1 Axes>"
      ]
     },
     "metadata": {
      "needs_background": "light"
     },
     "output_type": "display_data"
    }
   ],
   "source": [
    "df['fixed acidity'] = df['fixed acidity'].apply(lambda x : 13.000 if x > 13.000 else x)\n",
    "\n",
    "df['fixed acidity'].quantile(np.arange(0,1.01,0.01)).plot(kind = 'line', marker = 'o')\n",
    "## outlier removed"
   ]
  },
  {
   "cell_type": "markdown",
   "metadata": {},
   "source": [
    "### volatile acidity"
   ]
  },
  {
   "cell_type": "code",
   "execution_count": 13,
   "metadata": {
    "ExecuteTime": {
     "end_time": "2020-11-06T18:54:05.986840Z",
     "start_time": "2020-11-06T18:54:05.812307Z"
    }
   },
   "outputs": [
    {
     "data": {
      "text/plain": [
       "<matplotlib.axes._subplots.AxesSubplot at 0x24f9f3a1dc8>"
      ]
     },
     "execution_count": 13,
     "metadata": {},
     "output_type": "execute_result"
    },
    {
     "data": {
      "image/png": "[encoded data removed]",
      "text/plain": [
       "<Figure size 432x288 with 1 Axes>"
      ]
     },
     "metadata": {
      "needs_background": "light"
     },
     "output_type": "display_data"
    }
   ],
   "source": [
    "## volatile acidity\n",
    "sns.boxplot(df['volatile acidity'])\n"
   ]
  },
  {
   "cell_type": "code",
   "execution_count": 14,
   "metadata": {
    "ExecuteTime": {
     "end_time": "2020-11-06T18:54:06.244152Z",
     "start_time": "2020-11-06T18:54:05.990833Z"
    }
   },
   "outputs": [
    {
     "data": {
      "text/plain": [
       "<matplotlib.axes._subplots.AxesSubplot at 0x24f9f412088>"
      ]
     },
     "execution_count": 14,
     "metadata": {},
     "output_type": "execute_result"
    },
    {
     "data": {
      "image/png": "[encoded data removed]",
      "text/plain": [
       "<Figure size 432x288 with 1 Axes>"
      ]
     },
     "metadata": {
      "needs_background": "light"
     },
     "output_type": "display_data"
    }
   ],
   "source": [
    "df['volatile acidity'].quantile(np.arange(0,1.01,0.01)).plot(kind = 'line', marker = 'o')"
   ]
  },
  {
   "cell_type": "code",
   "execution_count": 15,
   "metadata": {
    "ExecuteTime": {
     "end_time": "2020-11-06T18:54:06.261107Z",
     "start_time": "2020-11-06T18:54:06.248141Z"
    }
   },
   "outputs": [
    {
     "data": {
      "text/plain": [
       "0.00    0.1200\n",
       "0.01    0.2000\n",
       "0.02    0.2300\n",
       "0.03    0.2474\n",
       "0.04    0.2600\n",
       "         ...  \n",
       "0.96    0.8800\n",
       "0.97    0.9100\n",
       "0.98    0.9650\n",
       "0.99    1.0292\n",
       "1.00    1.5800\n",
       "Name: volatile acidity, Length: 101, dtype: float64"
      ]
     },
     "execution_count": 15,
     "metadata": {},
     "output_type": "execute_result"
    }
   ],
   "source": [
    "df['volatile acidity'].quantile(np.arange(0,1.01,0.01))"
   ]
  },
  {
   "cell_type": "code",
   "execution_count": 16,
   "metadata": {
    "ExecuteTime": {
     "end_time": "2020-11-06T18:54:06.494483Z",
     "start_time": "2020-11-06T18:54:06.266093Z"
    }
   },
   "outputs": [
    {
     "data": {
      "text/plain": [
       "<matplotlib.axes._subplots.AxesSubplot at 0x24f9f487188>"
      ]
     },
     "execution_count": 16,
     "metadata": {},
     "output_type": "execute_result"
    },
    {
     "data": {
      "image/png": "[encoded data removed]",
      "text/plain": [
       "<Figure size 432x288 with 1 Axes>"
      ]
     },
     "metadata": {
      "needs_background": "light"
     },
     "output_type": "display_data"
    }
   ],
   "source": [
    "df['volatile acidity'] = df['volatile acidity'].apply(lambda x : 1.0000 if x > 1.0000 else x)\n",
    "\n",
    "df['volatile acidity'].quantile(np.arange(0,1.01,0.01)).plot(kind = 'line', marker = 'o')\n",
    "\n",
    "## outlier removed"
   ]
  },
  {
   "cell_type": "markdown",
   "metadata": {},
   "source": [
    "### Citric acid"
   ]
  },
  {
   "cell_type": "code",
   "execution_count": 17,
   "metadata": {
    "ExecuteTime": {
     "end_time": "2020-11-06T18:54:06.664028Z",
     "start_time": "2020-11-06T18:54:06.498472Z"
    }
   },
   "outputs": [
    {
     "data": {
      "text/plain": [
       "<matplotlib.axes._subplots.AxesSubplot at 0x24f9f4ca688>"
      ]
     },
     "execution_count": 17,
     "metadata": {},
     "output_type": "execute_result"
    },
    {
     "data": {
      "image/png": "[encoded data removed]",
      "text/plain": [
       "<Figure size 432x288 with 1 Axes>"
      ]
     },
     "metadata": {
      "needs_background": "light"
     },
     "output_type": "display_data"
    }
   ],
   "source": [
    "## citric acid\n",
    "\n",
    "sns.boxplot(df['citric acid'])"
   ]
  },
  {
   "cell_type": "code",
   "execution_count": 18,
   "metadata": {
    "ExecuteTime": {
     "end_time": "2020-11-06T18:54:06.869479Z",
     "start_time": "2020-11-06T18:54:06.669016Z"
    }
   },
   "outputs": [
    {
     "data": {
      "text/plain": [
       "<matplotlib.axes._subplots.AxesSubplot at 0x24f9f549648>"
      ]
     },
     "execution_count": 18,
     "metadata": {},
     "output_type": "execute_result"
    },
    {
     "data": {
      "image/png": "[encoded data removed]",
      "text/plain": [
       "<Figure size 432x288 with 1 Axes>"
      ]
     },
     "metadata": {
      "needs_background": "light"
     },
     "output_type": "display_data"
    }
   ],
   "source": [
    "df['citric acid'].quantile(np.arange(0,1.01,0.01)).plot(kind = 'line', marker = 'o')"
   ]
  },
  {
   "cell_type": "code",
   "execution_count": 19,
   "metadata": {
    "ExecuteTime": {
     "end_time": "2020-11-06T18:54:06.888428Z",
     "start_time": "2020-11-06T18:54:06.873468Z"
    }
   },
   "outputs": [
    {
     "data": {
      "text/plain": [
       "0.00    0.0000\n",
       "0.01    0.0000\n",
       "0.02    0.0000\n",
       "0.03    0.0000\n",
       "0.04    0.0000\n",
       "         ...  \n",
       "0.96    0.6368\n",
       "0.97    0.6600\n",
       "0.98    0.6800\n",
       "0.99    0.7042\n",
       "1.00    1.0000\n",
       "Name: citric acid, Length: 101, dtype: float64"
      ]
     },
     "execution_count": 19,
     "metadata": {},
     "output_type": "execute_result"
    }
   ],
   "source": [
    "df['citric acid'].quantile(np.arange(0,1.01,0.01))"
   ]
  },
  {
   "cell_type": "code",
   "execution_count": 20,
   "metadata": {
    "ExecuteTime": {
     "end_time": "2020-11-06T18:54:07.144743Z",
     "start_time": "2020-11-06T18:54:06.891420Z"
    }
   },
   "outputs": [
    {
     "data": {
      "text/plain": [
       "<matplotlib.axes._subplots.AxesSubplot at 0x24f9f5bf2c8>"
      ]
     },
     "execution_count": 20,
     "metadata": {},
     "output_type": "execute_result"
    },
    {
     "data": {
      "image/png": "[encoded data removed]",
      "text/plain": [
       "<Figure size 432x288 with 1 Axes>"
      ]
     },
     "metadata": {
      "needs_background": "light"
     },
     "output_type": "display_data"
    }
   ],
   "source": [
    "df['citric acid'] = df['citric acid'].apply(lambda x : 0.6900 if x > 0.6900 else x)\n",
    "\n",
    "df['citric acid'].quantile(np.arange(0,1.01,0.01)).plot(kind = 'line', marker = 'o')\n",
    "\n",
    "## outlier removed"
   ]
  },
  {
   "cell_type": "markdown",
   "metadata": {
    "ExecuteTime": {
     "end_time": "2020-11-06T18:54:07.152722Z",
     "start_time": "2020-11-06T18:54:07.147734Z"
    }
   },
   "source": [
    "### Residual Sugar"
   ]
  },
  {
   "cell_type": "code",
   "execution_count": 22,
   "metadata": {
    "ExecuteTime": {
     "end_time": "2020-11-06T18:54:07.325280Z",
     "start_time": "2020-11-06T18:54:07.157707Z"
    }
   },
   "outputs": [
    {
     "data": {
      "text/plain": [
       "<matplotlib.axes._subplots.AxesSubplot at 0x24f9f607d08>"
      ]
     },
     "execution_count": 22,
     "metadata": {},
     "output_type": "execute_result"
    },
    {
     "data": {
      "image/png": "[encoded data removed]",
      "text/plain": [
       "<Figure size 432x288 with 1 Axes>"
      ]
     },
     "metadata": {
      "needs_background": "light"
     },
     "output_type": "display_data"
    }
   ],
   "source": [
    "sns.boxplot(df['residual sugar'])"
   ]
  },
  {
   "cell_type": "code",
   "execution_count": 23,
   "metadata": {
    "ExecuteTime": {
     "end_time": "2020-11-06T18:54:07.808965Z",
     "start_time": "2020-11-06T18:54:07.333238Z"
    }
   },
   "outputs": [
    {
     "data": {
      "text/plain": [
       "<matplotlib.axes._subplots.AxesSubplot at 0x24f9f689788>"
      ]
     },
     "execution_count": 23,
     "metadata": {},
     "output_type": "execute_result"
    },
    {
     "data": {
      "image/png": "[encoded data removed]",
      "text/plain": [
       "<Figure size 432x288 with 1 Axes>"
      ]
     },
     "metadata": {
      "needs_background": "light"
     },
     "output_type": "display_data"
    }
   ],
   "source": [
    "df['residual sugar'].quantile(np.arange(0,1.01,0.01)).plot(kind = 'line', marker = 'o')"
   ]
  },
  {
   "cell_type": "code",
   "execution_count": 24,
   "metadata": {
    "ExecuteTime": {
     "end_time": "2020-11-06T18:54:07.835893Z",
     "start_time": "2020-11-06T18:54:07.816943Z"
    }
   },
   "outputs": [
    {
     "data": {
      "text/plain": [
       "0.00     0.900\n",
       "0.01     1.400\n",
       "0.02     1.400\n",
       "0.03     1.400\n",
       "0.04     1.500\n",
       "         ...  \n",
       "0.96     5.500\n",
       "0.97     6.000\n",
       "0.98     6.592\n",
       "0.99     8.300\n",
       "1.00    15.500\n",
       "Name: residual sugar, Length: 101, dtype: float64"
      ]
     },
     "execution_count": 24,
     "metadata": {},
     "output_type": "execute_result"
    }
   ],
   "source": [
    "df['residual sugar'].quantile(np.arange(0,1.01,0.01))"
   ]
  },
  {
   "cell_type": "code",
   "execution_count": 25,
   "metadata": {
    "ExecuteTime": {
     "end_time": "2020-11-06T18:54:08.156036Z",
     "start_time": "2020-11-06T18:54:07.839881Z"
    }
   },
   "outputs": [
    {
     "data": {
      "text/plain": [
       "<matplotlib.axes._subplots.AxesSubplot at 0x24f9f6fe9c8>"
      ]
     },
     "execution_count": 25,
     "metadata": {},
     "output_type": "execute_result"
    },
    {
     "data": {
      "image/png": "[encoded data removed]",
      "text/plain": [
       "<Figure size 432x288 with 1 Axes>"
      ]
     },
     "metadata": {
      "needs_background": "light"
     },
     "output_type": "display_data"
    }
   ],
   "source": [
    "df['residual sugar'] = df['residual sugar'].apply(lambda x : 7.000 if x > 7.000 else x)\n",
    "\n",
    "df['residual sugar'].quantile(np.arange(0,1.01,0.01)).plot(kind = 'line', marker = 'o')\n",
    "\n",
    "## outlier removed"
   ]
  },
  {
   "cell_type": "markdown",
   "metadata": {},
   "source": [
    "### Chlorides"
   ]
  },
  {
   "cell_type": "code",
   "execution_count": 26,
   "metadata": {
    "ExecuteTime": {
     "end_time": "2020-11-06T18:54:08.359490Z",
     "start_time": "2020-11-06T18:54:08.160026Z"
    }
   },
   "outputs": [
    {
     "data": {
      "text/plain": [
       "<matplotlib.axes._subplots.AxesSubplot at 0x24f9f73a588>"
      ]
     },
     "execution_count": 26,
     "metadata": {},
     "output_type": "execute_result"
    },
    {
     "data": {
      "image/png": "[encoded data removed]",
      "text/plain": [
       "<Figure size 432x288 with 1 Axes>"
      ]
     },
     "metadata": {
      "needs_background": "light"
     },
     "output_type": "display_data"
    }
   ],
   "source": [
    "sns.boxplot(df['chlorides'])"
   ]
  },
  {
   "cell_type": "code",
   "execution_count": 27,
   "metadata": {
    "ExecuteTime": {
     "end_time": "2020-11-06T18:54:08.564401Z",
     "start_time": "2020-11-06T18:54:08.362483Z"
    }
   },
   "outputs": [
    {
     "data": {
      "text/plain": [
       "<matplotlib.axes._subplots.AxesSubplot at 0x24f9f7afc48>"
      ]
     },
     "execution_count": 27,
     "metadata": {},
     "output_type": "execute_result"
    },
    {
     "data": {
      "image/png": "[encoded data removed]",
      "text/plain": [
       "<Figure size 432x288 with 1 Axes>"
      ]
     },
     "metadata": {
      "needs_background": "light"
     },
     "output_type": "display_data"
    }
   ],
   "source": [
    "\n",
    "df['chlorides'].quantile(np.arange(0,1.01,0.01)).plot(kind = 'line', marker = 'o')"
   ]
  },
  {
   "cell_type": "code",
   "execution_count": 28,
   "metadata": {
    "ExecuteTime": {
     "end_time": "2020-11-06T18:54:08.580356Z",
     "start_time": "2020-11-06T18:54:08.567393Z"
    }
   },
   "outputs": [
    {
     "data": {
      "text/plain": [
       "0.00    0.01200\n",
       "0.01    0.04200\n",
       "0.02    0.04600\n",
       "0.03    0.04900\n",
       "0.04    0.05000\n",
       "         ...   \n",
       "0.96    0.16372\n",
       "0.97    0.18008\n",
       "0.98    0.23584\n",
       "0.99    0.36842\n",
       "1.00    0.61100\n",
       "Name: chlorides, Length: 101, dtype: float64"
      ]
     },
     "execution_count": 28,
     "metadata": {},
     "output_type": "execute_result"
    }
   ],
   "source": [
    "df['chlorides'].quantile(np.arange(0,1.01,0.01))"
   ]
  },
  {
   "cell_type": "code",
   "execution_count": 29,
   "metadata": {
    "ExecuteTime": {
     "end_time": "2020-11-06T18:54:08.792500Z",
     "start_time": "2020-11-06T18:54:08.583351Z"
    }
   },
   "outputs": [
    {
     "data": {
      "text/plain": [
       "<matplotlib.axes._subplots.AxesSubplot at 0x24f9f836c88>"
      ]
     },
     "execution_count": 29,
     "metadata": {},
     "output_type": "execute_result"
    },
    {
     "data": {
      "image/png": "[encoded data removed]",
      "text/plain": [
       "<Figure size 432x288 with 1 Axes>"
      ]
     },
     "metadata": {
      "needs_background": "light"
     },
     "output_type": "display_data"
    }
   ],
   "source": [
    "df['chlorides'] = df['chlorides'].apply(lambda x : 0.18000 if x > 0.18000 else x)\n",
    "\n",
    "df['chlorides'].quantile(np.arange(0,1.01,0.01)).plot(kind = 'line', marker = 'o')"
   ]
  },
  {
   "cell_type": "code",
   "execution_count": 30,
   "metadata": {
    "ExecuteTime": {
     "end_time": "2020-11-06T18:54:09.076741Z",
     "start_time": "2020-11-06T18:54:08.795493Z"
    }
   },
   "outputs": [
    {
     "data": {
      "text/plain": [
       "<matplotlib.axes._subplots.AxesSubplot at 0x24f9f8a2508>"
      ]
     },
     "execution_count": 30,
     "metadata": {},
     "output_type": "execute_result"
    },
    {
     "data": {
      "image/png": "[encoded data removed]",
      "text/plain": [
       "<Figure size 432x288 with 1 Axes>"
      ]
     },
     "metadata": {
      "needs_background": "light"
     },
     "output_type": "display_data"
    }
   ],
   "source": [
    "df['chlorides'] = df['chlorides'].apply(lambda x : 0.04600 if x < 0.04600 else x)\n",
    "\n",
    "df['chlorides'].quantile(np.arange(0,1.01,0.01)).plot(kind = 'line', marker = 'o')\n",
    "\n",
    "## Outlier removed"
   ]
  },
  {
   "cell_type": "markdown",
   "metadata": {},
   "source": [
    "### Free Sulfur dioxide"
   ]
  },
  {
   "cell_type": "code",
   "execution_count": 31,
   "metadata": {
    "ExecuteTime": {
     "end_time": "2020-11-06T18:54:09.302137Z",
     "start_time": "2020-11-06T18:54:09.080730Z"
    }
   },
   "outputs": [
    {
     "data": {
      "text/plain": [
       "<matplotlib.axes._subplots.AxesSubplot at 0x24f9f8e9f08>"
      ]
     },
     "execution_count": 31,
     "metadata": {},
     "output_type": "execute_result"
    },
    {
     "data": {
      "image/png": "[encoded data removed]",
      "text/plain": [
       "<Figure size 432x288 with 1 Axes>"
      ]
     },
     "metadata": {
      "needs_background": "light"
     },
     "output_type": "display_data"
    }
   ],
   "source": [
    "sns.boxplot(df['free sulfur dioxide'])"
   ]
  },
  {
   "cell_type": "code",
   "execution_count": 32,
   "metadata": {
    "ExecuteTime": {
     "end_time": "2020-11-06T18:54:09.639236Z",
     "start_time": "2020-11-06T18:54:09.307125Z"
    }
   },
   "outputs": [
    {
     "data": {
      "text/plain": [
       "<matplotlib.axes._subplots.AxesSubplot at 0x24f9f972ec8>"
      ]
     },
     "execution_count": 32,
     "metadata": {},
     "output_type": "execute_result"
    },
    {
     "data": {
      "image/png": "[encoded data removed]",
      "text/plain": [
       "<Figure size 432x288 with 1 Axes>"
      ]
     },
     "metadata": {
      "needs_background": "light"
     },
     "output_type": "display_data"
    }
   ],
   "source": [
    "df['free sulfur dioxide'].quantile(np.arange(0,1.01,0.01)).plot(kind = 'line', marker = 'o')"
   ]
  },
  {
   "cell_type": "code",
   "execution_count": 33,
   "metadata": {
    "ExecuteTime": {
     "end_time": "2020-11-06T18:54:09.663170Z",
     "start_time": "2020-11-06T18:54:09.646229Z"
    }
   },
   "outputs": [
    {
     "data": {
      "text/plain": [
       "0.00     1.0\n",
       "0.01     3.0\n",
       "0.02     3.0\n",
       "0.03     3.0\n",
       "0.04     4.0\n",
       "        ... \n",
       "0.96    37.0\n",
       "0.97    39.0\n",
       "0.98    42.0\n",
       "0.99    50.0\n",
       "1.00    72.0\n",
       "Name: free sulfur dioxide, Length: 101, dtype: float64"
      ]
     },
     "execution_count": 33,
     "metadata": {},
     "output_type": "execute_result"
    }
   ],
   "source": [
    "df['free sulfur dioxide'].quantile(np.arange(0,1.01,0.01))"
   ]
  },
  {
   "cell_type": "code",
   "execution_count": 34,
   "metadata": {
    "ExecuteTime": {
     "end_time": "2020-11-06T18:54:09.986309Z",
     "start_time": "2020-11-06T18:54:09.668159Z"
    }
   },
   "outputs": [
    {
     "data": {
      "text/plain": [
       "<matplotlib.axes._subplots.AxesSubplot at 0x24f9f9e9048>"
      ]
     },
     "execution_count": 34,
     "metadata": {},
     "output_type": "execute_result"
    },
    {
     "data": {
      "image/png": "[encoded data removed]",
      "text/plain": [
       "<Figure size 432x288 with 1 Axes>"
      ]
     },
     "metadata": {
      "needs_background": "light"
     },
     "output_type": "display_data"
    }
   ],
   "source": [
    "df['free sulfur dioxide'] = df['free sulfur dioxide'].apply(lambda x : 45.0 if x > 45.0 else x)\n",
    "\n",
    "df['free sulfur dioxide'].quantile(np.arange(0,1.01,0.01)).plot(kind = 'line', marker = 'o')\n",
    "\n",
    "## Outlier removed"
   ]
  },
  {
   "cell_type": "markdown",
   "metadata": {},
   "source": [
    "### Total Sulfur dioxide"
   ]
  },
  {
   "cell_type": "code",
   "execution_count": 35,
   "metadata": {
    "ExecuteTime": {
     "end_time": "2020-11-06T18:54:10.213698Z",
     "start_time": "2020-11-06T18:54:09.992291Z"
    }
   },
   "outputs": [
    {
     "data": {
      "text/plain": [
       "<matplotlib.axes._subplots.AxesSubplot at 0x24f9f9d72c8>"
      ]
     },
     "execution_count": 35,
     "metadata": {},
     "output_type": "execute_result"
    },
    {
     "data": {
      "image/png": "[encoded data removed]",
      "text/plain": [
       "<Figure size 432x288 with 1 Axes>"
      ]
     },
     "metadata": {
      "needs_background": "light"
     },
     "output_type": "display_data"
    }
   ],
   "source": [
    "sns.boxplot(df['total sulfur dioxide'])"
   ]
  },
  {
   "cell_type": "code",
   "execution_count": 36,
   "metadata": {
    "ExecuteTime": {
     "end_time": "2020-11-06T18:54:10.469016Z",
     "start_time": "2020-11-06T18:54:10.217689Z"
    }
   },
   "outputs": [
    {
     "data": {
      "text/plain": [
       "<matplotlib.axes._subplots.AxesSubplot at 0x24fa0a83488>"
      ]
     },
     "execution_count": 36,
     "metadata": {},
     "output_type": "execute_result"
    },
    {
     "data": {
      "image/png": "[encoded data removed]",
      "text/plain": [
       "<Figure size 432x288 with 1 Axes>"
      ]
     },
     "metadata": {
      "needs_background": "light"
     },
     "output_type": "display_data"
    }
   ],
   "source": [
    "\n",
    "df[\"total sulfur dioxide\"].quantile(np.arange(0,1.01,0.01)).plot(kind = 'line', marker = \"o\")"
   ]
  },
  {
   "cell_type": "code",
   "execution_count": 37,
   "metadata": {
    "ExecuteTime": {
     "end_time": "2020-11-06T18:54:10.488961Z",
     "start_time": "2020-11-06T18:54:10.473005Z"
    }
   },
   "outputs": [
    {
     "data": {
      "text/plain": [
       "0.00      6.00\n",
       "0.01      8.00\n",
       "0.02      9.00\n",
       "0.03     10.00\n",
       "0.04     11.00\n",
       "         ...  \n",
       "0.96    120.00\n",
       "0.97    127.00\n",
       "0.98    135.84\n",
       "0.99    145.84\n",
       "1.00    289.00\n",
       "Name: total sulfur dioxide, Length: 101, dtype: float64"
      ]
     },
     "execution_count": 37,
     "metadata": {},
     "output_type": "execute_result"
    }
   ],
   "source": [
    "df[\"total sulfur dioxide\"].quantile(np.arange(0,1.01,0.01))"
   ]
  },
  {
   "cell_type": "code",
   "execution_count": 38,
   "metadata": {
    "ExecuteTime": {
     "end_time": "2020-11-06T18:54:10.755249Z",
     "start_time": "2020-11-06T18:54:10.491955Z"
    }
   },
   "outputs": [
    {
     "data": {
      "text/plain": [
       "<matplotlib.axes._subplots.AxesSubplot at 0x24fa0afe848>"
      ]
     },
     "execution_count": 38,
     "metadata": {},
     "output_type": "execute_result"
    },
    {
     "data": {
      "image/png": "[encoded data removed]",
      "text/plain": [
       "<Figure size 432x288 with 1 Axes>"
      ]
     },
     "metadata": {
      "needs_background": "light"
     },
     "output_type": "display_data"
    }
   ],
   "source": [
    "df['total sulfur dioxide'] = df['total sulfur dioxide'].apply(lambda x : 140.00 if x > 140.00 else x)\n",
    "\n",
    "df['total sulfur dioxide'].quantile(np.arange(0,1.01,0.01)).plot(kind = 'line', marker = 'o')\n",
    "\n",
    "## Outlier removed"
   ]
  },
  {
   "cell_type": "markdown",
   "metadata": {},
   "source": [
    "### Density"
   ]
  },
  {
   "cell_type": "code",
   "execution_count": 39,
   "metadata": {
    "ExecuteTime": {
     "end_time": "2020-11-06T18:54:10.965685Z",
     "start_time": "2020-11-06T18:54:10.758241Z"
    }
   },
   "outputs": [
    {
     "data": {
      "text/plain": [
       "<matplotlib.axes._subplots.AxesSubplot at 0x24fa0b55cc8>"
      ]
     },
     "execution_count": 39,
     "metadata": {},
     "output_type": "execute_result"
    },
    {
     "data": {
      "image/png": "[encoded data removed]",
      "text/plain": [
       "<Figure size 432x288 with 1 Axes>"
      ]
     },
     "metadata": {
      "needs_background": "light"
     },
     "output_type": "display_data"
    }
   ],
   "source": [
    "sns.boxplot(df['density'])"
   ]
  },
  {
   "cell_type": "code",
   "execution_count": 40,
   "metadata": {
    "ExecuteTime": {
     "end_time": "2020-11-06T18:54:11.193088Z",
     "start_time": "2020-11-06T18:54:10.969675Z"
    }
   },
   "outputs": [
    {
     "data": {
      "text/plain": [
       "<matplotlib.axes._subplots.AxesSubplot at 0x24fa0a885c8>"
      ]
     },
     "execution_count": 40,
     "metadata": {},
     "output_type": "execute_result"
    },
    {
     "data": {
      "image/png": "[encoded data removed]",
      "text/plain": [
       "<Figure size 432x288 with 1 Axes>"
      ]
     },
     "metadata": {
      "needs_background": "light"
     },
     "output_type": "display_data"
    }
   ],
   "source": [
    "\n",
    "df[\"density\"].quantile(np.arange(0,1.01,0.01)).plot(kind = 'line', marker = \"o\")"
   ]
  },
  {
   "cell_type": "code",
   "execution_count": 41,
   "metadata": {
    "ExecuteTime": {
     "end_time": "2020-11-06T18:54:11.221999Z",
     "start_time": "2020-11-06T18:54:11.200059Z"
    }
   },
   "outputs": [
    {
     "data": {
      "text/plain": [
       "0.00    0.990070\n",
       "0.01    0.991872\n",
       "0.02    0.992580\n",
       "0.03    0.993175\n",
       "0.04    0.993403\n",
       "          ...   \n",
       "0.96    1.000084\n",
       "0.97    1.000243\n",
       "0.98    1.000600\n",
       "0.99    1.001400\n",
       "1.00    1.003690\n",
       "Name: density, Length: 101, dtype: float64"
      ]
     },
     "execution_count": 41,
     "metadata": {},
     "output_type": "execute_result"
    }
   ],
   "source": [
    "df[\"density\"].quantile(np.arange(0,1.01,0.01))"
   ]
  },
  {
   "cell_type": "code",
   "execution_count": 42,
   "metadata": {
    "ExecuteTime": {
     "end_time": "2020-11-06T18:54:11.482304Z",
     "start_time": "2020-11-06T18:54:11.225991Z"
    }
   },
   "outputs": [
    {
     "data": {
      "text/plain": [
       "<matplotlib.axes._subplots.AxesSubplot at 0x24f9cfb25c8>"
      ]
     },
     "execution_count": 42,
     "metadata": {},
     "output_type": "execute_result"
    },
    {
     "data": {
      "image/png": "[encoded data removed]",
      "text/plain": [
       "<Figure size 432x288 with 1 Axes>"
      ]
     },
     "metadata": {
      "needs_background": "light"
     },
     "output_type": "display_data"
    }
   ],
   "source": [
    "df['density'] = df['density'].apply(lambda x : 0.993200 if x < 0.993200 else x)\n",
    "\n",
    "df[\"density\"].quantile(np.arange(0,1.01,0.01)).plot(kind = 'line', marker = \"o\")"
   ]
  },
  {
   "cell_type": "code",
   "execution_count": 43,
   "metadata": {
    "ExecuteTime": {
     "end_time": "2020-11-06T18:54:11.771529Z",
     "start_time": "2020-11-06T18:54:11.487289Z"
    }
   },
   "outputs": [
    {
     "data": {
      "text/plain": [
       "<matplotlib.axes._subplots.AxesSubplot at 0x24fa0c7f888>"
      ]
     },
     "execution_count": 43,
     "metadata": {},
     "output_type": "execute_result"
    },
    {
     "data": {
      "image/png": "[encoded data removed]",
      "text/plain": [
       "<Figure size 432x288 with 1 Axes>"
      ]
     },
     "metadata": {
      "needs_background": "light"
     },
     "output_type": "display_data"
    }
   ],
   "source": [
    "df['density'] = df['density'].apply(lambda x : 1.002 if x > 1.002 else x)\n",
    "\n",
    "df[\"density\"].quantile(np.arange(0,1.01,0.01)).plot(kind = 'line', marker = \"o\")\n",
    "\n",
    "## outlier removed"
   ]
  },
  {
   "cell_type": "markdown",
   "metadata": {},
   "source": [
    "### pH"
   ]
  },
  {
   "cell_type": "code",
   "execution_count": 44,
   "metadata": {
    "ExecuteTime": {
     "end_time": "2020-11-06T18:54:11.963019Z",
     "start_time": "2020-11-06T18:54:11.774524Z"
    }
   },
   "outputs": [
    {
     "data": {
      "text/plain": [
       "<matplotlib.axes._subplots.AxesSubplot at 0x24fa0cca5c8>"
      ]
     },
     "execution_count": 44,
     "metadata": {},
     "output_type": "execute_result"
    },
    {
     "data": {
      "image/png": "[encoded data removed]",
      "text/plain": [
       "<Figure size 432x288 with 1 Axes>"
      ]
     },
     "metadata": {
      "needs_background": "light"
     },
     "output_type": "display_data"
    }
   ],
   "source": [
    "sns.boxplot(df['pH'])"
   ]
  },
  {
   "cell_type": "code",
   "execution_count": 45,
   "metadata": {
    "ExecuteTime": {
     "end_time": "2020-11-06T18:54:12.206366Z",
     "start_time": "2020-11-06T18:54:11.968005Z"
    }
   },
   "outputs": [
    {
     "data": {
      "text/plain": [
       "<matplotlib.axes._subplots.AxesSubplot at 0x24fa0d49088>"
      ]
     },
     "execution_count": 45,
     "metadata": {},
     "output_type": "execute_result"
    },
    {
     "data": {
      "image/png": "[encoded data removed]",
      "text/plain": [
       "<Figure size 432x288 with 1 Axes>"
      ]
     },
     "metadata": {
      "needs_background": "light"
     },
     "output_type": "display_data"
    }
   ],
   "source": [
    "\n",
    "df[\"pH\"].quantile(np.arange(0,1.01,0.01)).plot(kind = 'line', marker = \"o\")"
   ]
  },
  {
   "cell_type": "code",
   "execution_count": 46,
   "metadata": {
    "ExecuteTime": {
     "end_time": "2020-11-06T18:54:12.226312Z",
     "start_time": "2020-11-06T18:54:12.210355Z"
    }
   },
   "outputs": [
    {
     "data": {
      "text/plain": [
       "0.00    2.7400\n",
       "0.01    2.9400\n",
       "0.02    3.0000\n",
       "0.03    3.0300\n",
       "0.04    3.0400\n",
       "         ...  \n",
       "0.96    3.5800\n",
       "0.97    3.6000\n",
       "0.98    3.6300\n",
       "0.99    3.7042\n",
       "1.00    4.0100\n",
       "Name: pH, Length: 101, dtype: float64"
      ]
     },
     "execution_count": 46,
     "metadata": {},
     "output_type": "execute_result"
    }
   ],
   "source": [
    "df[\"pH\"].quantile(np.arange(0,1.01,0.01))"
   ]
  },
  {
   "cell_type": "code",
   "execution_count": 47,
   "metadata": {
    "ExecuteTime": {
     "end_time": "2020-11-06T18:54:12.450712Z",
     "start_time": "2020-11-06T18:54:12.229304Z"
    }
   },
   "outputs": [
    {
     "data": {
      "text/plain": [
       "<matplotlib.axes._subplots.AxesSubplot at 0x24fa0dbf588>"
      ]
     },
     "execution_count": 47,
     "metadata": {},
     "output_type": "execute_result"
    },
    {
     "data": {
      "image/png": "[encoded data removed]",
      "text/plain": [
       "<Figure size 432x288 with 1 Axes>"
      ]
     },
     "metadata": {
      "needs_background": "light"
     },
     "output_type": "display_data"
    }
   ],
   "source": [
    "df['pH'] = df['pH'].apply(lambda x : 3.0000 if x < 3.0000 else x)\n",
    "\n",
    "df[\"pH\"].quantile(np.arange(0,1.01,0.01)).plot(kind = 'line', marker = \"o\")"
   ]
  },
  {
   "cell_type": "code",
   "execution_count": 48,
   "metadata": {
    "ExecuteTime": {
     "end_time": "2020-11-06T18:54:12.648185Z",
     "start_time": "2020-11-06T18:54:12.453707Z"
    }
   },
   "outputs": [
    {
     "data": {
      "text/plain": [
       "<matplotlib.axes._subplots.AxesSubplot at 0x24fa0e1a048>"
      ]
     },
     "execution_count": 48,
     "metadata": {},
     "output_type": "execute_result"
    },
    {
     "data": {
      "image/png": "[encoded data removed]",
      "text/plain": [
       "<Figure size 432x288 with 1 Axes>"
      ]
     },
     "metadata": {
      "needs_background": "light"
     },
     "output_type": "display_data"
    }
   ],
   "source": [
    "df['pH'] = df['pH'].apply(lambda x : 3.7042 if x > 3.7042 else x)\n",
    "\n",
    "df[\"pH\"].quantile(np.arange(0,1.01,0.01)).plot(kind = 'line', marker = \"o\")\n",
    "\n",
    "## outlier removed"
   ]
  },
  {
   "cell_type": "markdown",
   "metadata": {},
   "source": [
    "### Sulphates"
   ]
  },
  {
   "cell_type": "code",
   "execution_count": 49,
   "metadata": {
    "ExecuteTime": {
     "end_time": "2020-11-06T18:54:12.814755Z",
     "start_time": "2020-11-06T18:54:12.652173Z"
    }
   },
   "outputs": [
    {
     "data": {
      "text/plain": [
       "<matplotlib.axes._subplots.AxesSubplot at 0x24fa0e6b3c8>"
      ]
     },
     "execution_count": 49,
     "metadata": {},
     "output_type": "execute_result"
    },
    {
     "data": {
      "image/png": "[encoded data removed]",
      "text/plain": [
       "<Figure size 432x288 with 1 Axes>"
      ]
     },
     "metadata": {
      "needs_background": "light"
     },
     "output_type": "display_data"
    }
   ],
   "source": [
    "sns.boxplot(df['sulphates'])"
   ]
  },
  {
   "cell_type": "code",
   "execution_count": 50,
   "metadata": {
    "ExecuteTime": {
     "end_time": "2020-11-06T18:54:13.149841Z",
     "start_time": "2020-11-06T18:54:12.818726Z"
    }
   },
   "outputs": [
    {
     "data": {
      "text/plain": [
       "<matplotlib.axes._subplots.AxesSubplot at 0x24fa0eef2c8>"
      ]
     },
     "execution_count": 50,
     "metadata": {},
     "output_type": "execute_result"
    },
    {
     "data": {
      "image/png": "[encoded data removed]",
      "text/plain": [
       "<Figure size 432x288 with 1 Axes>"
      ]
     },
     "metadata": {
      "needs_background": "light"
     },
     "output_type": "display_data"
    }
   ],
   "source": [
    "df[\"sulphates\"].quantile(np.arange(0,1.01,0.01)).plot(kind = 'line', marker = \"o\")\n"
   ]
  },
  {
   "cell_type": "code",
   "execution_count": 51,
   "metadata": {
    "ExecuteTime": {
     "end_time": "2020-11-06T18:54:13.173777Z",
     "start_time": "2020-11-06T18:54:13.154827Z"
    }
   },
   "outputs": [
    {
     "data": {
      "text/plain": [
       "0.00    0.3300\n",
       "0.01    0.4300\n",
       "0.02    0.4400\n",
       "0.03    0.4500\n",
       "0.04    0.4600\n",
       "         ...  \n",
       "0.96    0.9968\n",
       "0.97    1.0600\n",
       "0.98    1.1384\n",
       "0.99    1.2800\n",
       "1.00    2.0000\n",
       "Name: sulphates, Length: 101, dtype: float64"
      ]
     },
     "execution_count": 51,
     "metadata": {},
     "output_type": "execute_result"
    }
   ],
   "source": [
    "df[\"sulphates\"].quantile(np.arange(0,1.01,0.01))"
   ]
  },
  {
   "cell_type": "code",
   "execution_count": 52,
   "metadata": {
    "ExecuteTime": {
     "end_time": "2020-11-06T18:54:13.535810Z",
     "start_time": "2020-11-06T18:54:13.177768Z"
    }
   },
   "outputs": [
    {
     "data": {
      "text/plain": [
       "<matplotlib.axes._subplots.AxesSubplot at 0x24fa0f63688>"
      ]
     },
     "execution_count": 52,
     "metadata": {},
     "output_type": "execute_result"
    },
    {
     "data": {
      "image/png": "[encoded data removed]",
      "text/plain": [
       "<Figure size 432x288 with 1 Axes>"
      ]
     },
     "metadata": {
      "needs_background": "light"
     },
     "output_type": "display_data"
    }
   ],
   "source": [
    "df['sulphates'] = df['sulphates'].apply(lambda x : 1.2800 if x > 1.2800 else x)\n",
    "\n",
    "df['sulphates'].quantile(np.arange(0,1.01,0.01)).plot(kind = 'line', marker = 'o')\n",
    "\n",
    "## Outlier Removed"
   ]
  },
  {
   "cell_type": "markdown",
   "metadata": {},
   "source": [
    "### Alcohol"
   ]
  },
  {
   "cell_type": "code",
   "execution_count": 53,
   "metadata": {
    "ExecuteTime": {
     "end_time": "2020-11-06T18:54:13.737269Z",
     "start_time": "2020-11-06T18:54:13.539801Z"
    }
   },
   "outputs": [
    {
     "data": {
      "text/plain": [
       "<matplotlib.axes._subplots.AxesSubplot at 0x24fa0e83648>"
      ]
     },
     "execution_count": 53,
     "metadata": {},
     "output_type": "execute_result"
    },
    {
     "data": {
      "image/png": "[encoded data removed]",
      "text/plain": [
       "<Figure size 432x288 with 1 Axes>"
      ]
     },
     "metadata": {
      "needs_background": "light"
     },
     "output_type": "display_data"
    }
   ],
   "source": [
    "sns.boxplot(df['alcohol'])"
   ]
  },
  {
   "cell_type": "code",
   "execution_count": 54,
   "metadata": {
    "ExecuteTime": {
     "end_time": "2020-11-06T18:54:13.944716Z",
     "start_time": "2020-11-06T18:54:13.742255Z"
    }
   },
   "outputs": [
    {
     "data": {
      "text/plain": [
       "<matplotlib.axes._subplots.AxesSubplot at 0x24fa1027b08>"
      ]
     },
     "execution_count": 54,
     "metadata": {},
     "output_type": "execute_result"
    },
    {
     "data": {
      "image/png": "[encoded data removed]",
      "text/plain": [
       "<Figure size 432x288 with 1 Axes>"
      ]
     },
     "metadata": {
      "needs_background": "light"
     },
     "output_type": "display_data"
    }
   ],
   "source": [
    "df['alcohol'].quantile(np.arange(0,1.01,0.01)).plot(kind = 'line', marker = 'o')"
   ]
  },
  {
   "cell_type": "code",
   "execution_count": 55,
   "metadata": {
    "ExecuteTime": {
     "end_time": "2020-11-06T18:54:13.961668Z",
     "start_time": "2020-11-06T18:54:13.947708Z"
    }
   },
   "outputs": [
    {
     "data": {
      "text/plain": [
       "0.00     8.400\n",
       "0.01     9.000\n",
       "0.02     9.058\n",
       "0.03     9.100\n",
       "0.04     9.200\n",
       "         ...  \n",
       "0.96    12.700\n",
       "0.97    12.800\n",
       "0.98    12.900\n",
       "0.99    13.400\n",
       "1.00    14.900\n",
       "Name: alcohol, Length: 101, dtype: float64"
      ]
     },
     "execution_count": 55,
     "metadata": {},
     "output_type": "execute_result"
    }
   ],
   "source": [
    "df['alcohol'].quantile(np.arange(0,1.01,0.01))"
   ]
  },
  {
   "cell_type": "code",
   "execution_count": 56,
   "metadata": {
    "ExecuteTime": {
     "end_time": "2020-11-06T18:54:14.159141Z",
     "start_time": "2020-11-06T18:54:13.965658Z"
    }
   },
   "outputs": [
    {
     "data": {
      "text/plain": [
       "<matplotlib.axes._subplots.AxesSubplot at 0x24fa1097b48>"
      ]
     },
     "execution_count": 56,
     "metadata": {},
     "output_type": "execute_result"
    },
    {
     "data": {
      "image/png": "[encoded data removed]",
      "text/plain": [
       "<Figure size 432x288 with 1 Axes>"
      ]
     },
     "metadata": {
      "needs_background": "light"
     },
     "output_type": "display_data"
    }
   ],
   "source": [
    "df['alcohol'] = df['alcohol'].apply(lambda x : 13.000 if x > 13.000 else x)\n",
    "\n",
    "df['alcohol'].quantile(np.arange(0,1.01,0.01)).plot(kind = 'line', marker = 'o')\n",
    "\n",
    "## Outlier Removed"
   ]
  },
  {
   "cell_type": "code",
   "execution_count": 57,
   "metadata": {
    "ExecuteTime": {
     "end_time": "2020-11-06T18:54:14.371590Z",
     "start_time": "2020-11-06T18:54:14.162134Z"
    }
   },
   "outputs": [
    {
     "data": {
      "text/plain": [
       "<matplotlib.axes._subplots.AxesSubplot at 0x24fa10f5fc8>"
      ]
     },
     "execution_count": 57,
     "metadata": {},
     "output_type": "execute_result"
    },
    {
     "data": {
      "image/png": "[encoded data removed]",
      "text/plain": [
       "<Figure size 432x288 with 1 Axes>"
      ]
     },
     "metadata": {
      "needs_background": "light"
     },
     "output_type": "display_data"
    }
   ],
   "source": [
    "df['alcohol'] = df['alcohol'].apply(lambda x : 9.000 if x < 9.000 else x)\n",
    "\n",
    "df['alcohol'].quantile(np.arange(0,1.01,0.01)).plot(kind = 'line', marker = 'o')\n",
    "\n",
    "## outlier removed"
   ]
  },
  {
   "cell_type": "markdown",
   "metadata": {},
   "source": [
    "### Quality - Target Variable"
   ]
  },
  {
   "cell_type": "code",
   "execution_count": 58,
   "metadata": {
    "ExecuteTime": {
     "end_time": "2020-11-06T18:54:14.401493Z",
     "start_time": "2020-11-06T18:54:14.375561Z"
    }
   },
   "outputs": [
    {
     "data": {
      "text/plain": [
       "5    42.457689\n",
       "6    39.367182\n",
       "7    12.288447\n",
       "4     3.899926\n",
       "8     1.250920\n",
       "3     0.735835\n",
       "Name: quality, dtype: float64"
      ]
     },
     "execution_count": 58,
     "metadata": {},
     "output_type": "execute_result"
    }
   ],
   "source": [
    "df['quality'].value_counts(normalize = True)*100"
   ]
  },
  {
   "cell_type": "code",
   "execution_count": 59,
   "metadata": {
    "ExecuteTime": {
     "end_time": "2020-11-06T18:54:14.412463Z",
     "start_time": "2020-11-06T18:54:14.404484Z"
    }
   },
   "outputs": [],
   "source": [
    "df['quality'] = df['quality'].apply(lambda x : 'Good' if x >= 7 else 'Average' if ((x == 5) | (x == 6)) else 'Poor')"
   ]
  },
  {
   "cell_type": "code",
   "execution_count": 60,
   "metadata": {
    "ExecuteTime": {
     "end_time": "2020-11-06T18:54:15.334010Z",
     "start_time": "2020-11-06T18:54:14.418448Z"
    }
   },
   "outputs": [
    {
     "data": {
      "text/plain": [
       "0       Average\n",
       "1       Average\n",
       "2       Average\n",
       "3       Average\n",
       "5       Average\n",
       "         ...   \n",
       "1593    Average\n",
       "1594    Average\n",
       "1595    Average\n",
       "1597    Average\n",
       "1598    Average\n",
       "Name: quality, Length: 1359, dtype: object"
      ]
     },
     "execution_count": 60,
     "metadata": {},
     "output_type": "execute_result"
    }
   ],
   "source": [
    "## Scaling numeric features\n",
    "\n",
    "from sklearn.preprocessing import StandardScaler\n",
    "\n",
    "x = df.drop('quality',axis = 1)\n",
    "y = df['quality']\n",
    "y"
   ]
  },
  {
   "cell_type": "code",
   "execution_count": 61,
   "metadata": {
    "ExecuteTime": {
     "end_time": "2020-11-06T18:54:15.365941Z",
     "start_time": "2020-11-06T18:54:15.337998Z"
    }
   },
   "outputs": [
    {
     "data": {
      "text/plain": [
       "array([[-0.53041737,  0.97611835, -1.40334654, ...,  1.34848468,\n",
       "        -0.6155535 , -0.97530582],\n",
       "       [-0.29386401,  1.99538316, -1.40334654, ..., -0.74242662,\n",
       "         0.15420698, -0.59430892],\n",
       "       [-0.29386401,  1.31587329, -1.19662644, ..., -0.33773411,\n",
       "        -0.03823314, -0.59430892],\n",
       "       ...,\n",
       "       [-1.41749243,  0.12673101, -0.8865463 , ...,  1.41593343,\n",
       "         0.66738064,  0.73918026],\n",
       "       [-1.41749243,  0.66467632, -0.78318625, ...,  1.75317719,\n",
       "         0.3466471 , -0.21331201],\n",
       "       [-1.3583541 , -1.23228874,  1.02561462, ...,  0.53909966,\n",
       "         0.02591357,  0.5486818 ]])"
      ]
     },
     "execution_count": 61,
     "metadata": {},
     "output_type": "execute_result"
    }
   ],
   "source": [
    "scaler = StandardScaler()\n",
    "\n",
    "x = scaler.fit_transform(x)\n",
    "x"
   ]
  },
  {
   "cell_type": "code",
   "execution_count": 62,
   "metadata": {
    "ExecuteTime": {
     "end_time": "2020-11-06T18:54:15.382880Z",
     "start_time": "2020-11-06T18:54:15.370910Z"
    }
   },
   "outputs": [
    {
     "data": {
      "text/plain": [
       "Average    81.824871\n",
       "Good       13.539367\n",
       "Poor        4.635762\n",
       "Name: quality, dtype: float64"
      ]
     },
     "execution_count": 62,
     "metadata": {},
     "output_type": "execute_result"
    }
   ],
   "source": [
    "y.value_counts(normalize = True)*100 \n",
    "## we can see there is a class imbalance issue\n",
    "\n",
    "## to balance the classes we will use smote"
   ]
  },
  {
   "cell_type": "code",
   "execution_count": 63,
   "metadata": {
    "ExecuteTime": {
     "end_time": "2020-11-06T18:54:15.651159Z",
     "start_time": "2020-11-06T18:54:15.385872Z"
    }
   },
   "outputs": [],
   "source": [
    "from imblearn.over_sampling import SMOTE \n",
    "\n",
    "#(pip install imbalanced-learn)\n",
    "## it will randomly pick a point from the minority class and computing the k nearest neighbor for this point\n",
    "## The synthetic points are added between the chosen points and its neighbors\n",
    "## we will use ratio = 'minority' to resample the minority class\n"
   ]
  },
  {
   "cell_type": "code",
   "execution_count": 64,
   "metadata": {
    "ExecuteTime": {
     "end_time": "2020-11-06T18:54:15.671106Z",
     "start_time": "2020-11-06T18:54:15.654152Z"
    }
   },
   "outputs": [
    {
     "name": "stdout",
     "output_type": "stream",
     "text": [
      "(2408, 11) (2408,)\n"
     ]
    },
    {
     "name": "stderr",
     "output_type": "stream",
     "text": [
      "C:\\Users\\Admin\\anaconda3\\lib\\site-packages\\imblearn\\utils\\_validation.py:638: FutureWarning: Pass sampling_strategy=minority as keyword args. From version 0.9 passing these as positional arguments will result in an error\n",
      "  FutureWarning)\n"
     ]
    }
   ],
   "source": [
    "smote = SMOTE('minority')\n",
    "\n",
    "X_sm, Y_sm = smote.fit_sample(x,y)\n",
    "print(X_sm.shape,Y_sm.shape)"
   ]
  },
  {
   "cell_type": "code",
   "execution_count": 65,
   "metadata": {
    "ExecuteTime": {
     "end_time": "2020-11-06T18:54:15.690056Z",
     "start_time": "2020-11-06T18:54:15.676093Z"
    }
   },
   "outputs": [],
   "source": [
    "## using train test split\n",
    "\n",
    "from sklearn.model_selection import train_test_split\n",
    "\n",
    "X_train, X_test, Y_train, Y_test = train_test_split(X_sm,Y_sm,test_size = 0.3, random_state = 456)"
   ]
  },
  {
   "cell_type": "code",
   "execution_count": 66,
   "metadata": {
    "ExecuteTime": {
     "end_time": "2020-11-06T18:54:15.710004Z",
     "start_time": "2020-11-06T18:54:15.693047Z"
    }
   },
   "outputs": [
    {
     "data": {
      "text/plain": [
       "Average    46.765579\n",
       "Poor       45.934718\n",
       "Good        7.299703\n",
       "Name: quality, dtype: float64"
      ]
     },
     "execution_count": 66,
     "metadata": {},
     "output_type": "execute_result"
    }
   ],
   "source": [
    "Y_train.value_counts(normalize = True)*100 "
   ]
  },
  {
   "cell_type": "code",
   "execution_count": 67,
   "metadata": {
    "ExecuteTime": {
     "end_time": "2020-11-06T18:54:15.733939Z",
     "start_time": "2020-11-06T18:54:15.715986Z"
    }
   },
   "outputs": [
    {
     "name": "stdout",
     "output_type": "stream",
     "text": [
      "length of X_train :  1685 length of Y_train :  1685\n",
      "length of X_test :  723 length of Y_test :  723\n"
     ]
    }
   ],
   "source": [
    "print(\"length of X_train : \", len(X_train), 'length of Y_train : ', len(Y_train))\n",
    "print('length of X_test : ', len(X_test),'length of Y_test : ', len(Y_test))"
   ]
  },
  {
   "cell_type": "markdown",
   "metadata": {},
   "source": [
    "### Sklearn - Neural Network"
   ]
  },
  {
   "cell_type": "code",
   "execution_count": 68,
   "metadata": {
    "ExecuteTime": {
     "end_time": "2020-11-06T18:54:15.765871Z",
     "start_time": "2020-11-06T18:54:15.753892Z"
    }
   },
   "outputs": [],
   "source": [
    "from sklearn.neural_network import MLPClassifier\n",
    "\n",
    "reg = MLPClassifier(hidden_layer_sizes = (8,5,3), verbose = True, activation = 'logistic', batch_size = 4,\n",
    "                   random_state = 2, max_iter = 1000, learning_rate_init = 0.03,solver = 'sgd')"
   ]
  },
  {
   "cell_type": "code",
   "execution_count": 69,
   "metadata": {
    "ExecuteTime": {
     "end_time": "2020-11-06T18:54:15.950360Z",
     "start_time": "2020-11-06T18:54:15.776826Z"
    }
   },
   "outputs": [],
   "source": [
    "??MLPClassifier"
   ]
  },
  {
   "cell_type": "code",
   "execution_count": 70,
   "metadata": {
    "ExecuteTime": {
     "end_time": "2020-11-06T18:54:37.039642Z",
     "start_time": "2020-11-06T18:54:15.956344Z"
    }
   },
   "outputs": [
    {
     "name": "stdout",
     "output_type": "stream",
     "text": [
      "Iteration 1, loss = 0.92273868\n",
      "Iteration 2, loss = 0.91193298\n",
      "Iteration 3, loss = 0.86879811\n",
      "Iteration 4, loss = 0.72445788\n",
      "Iteration 5, loss = 0.68534297\n",
      "Iteration 6, loss = 0.66029425\n",
      "Iteration 7, loss = 0.61980898\n",
      "Iteration 8, loss = 0.58190153\n",
      "Iteration 9, loss = 0.55954593\n",
      "Iteration 10, loss = 0.52912559\n",
      "Iteration 11, loss = 0.51235835\n",
      "Iteration 12, loss = 0.50676705\n",
      "Iteration 13, loss = 0.49640900\n",
      "Iteration 14, loss = 0.48663976\n",
      "Iteration 15, loss = 0.48170962\n",
      "Iteration 16, loss = 0.46625716\n",
      "Iteration 17, loss = 0.46975506\n",
      "Iteration 18, loss = 0.45166474\n",
      "Iteration 19, loss = 0.44090849\n",
      "Iteration 20, loss = 0.44962455\n",
      "Iteration 21, loss = 0.42512471\n",
      "Iteration 22, loss = 0.42255755\n",
      "Iteration 23, loss = 0.41901442\n",
      "Iteration 24, loss = 0.42976588\n",
      "Iteration 25, loss = 0.41168152\n",
      "Iteration 26, loss = 0.40551668\n",
      "Iteration 27, loss = 0.39940250\n",
      "Iteration 28, loss = 0.39961468\n",
      "Iteration 29, loss = 0.38737226\n",
      "Iteration 30, loss = 0.40585645\n",
      "Iteration 31, loss = 0.39623463\n",
      "Iteration 32, loss = 0.39710351\n",
      "Iteration 33, loss = 0.39638353\n",
      "Iteration 34, loss = 0.38457702\n",
      "Iteration 35, loss = 0.37913016\n",
      "Iteration 36, loss = 0.37606057\n",
      "Iteration 37, loss = 0.37105295\n",
      "Iteration 38, loss = 0.37675068\n",
      "Iteration 39, loss = 0.37509117\n",
      "Iteration 40, loss = 0.36648773\n",
      "Iteration 41, loss = 0.35771099\n",
      "Iteration 42, loss = 0.36517243\n",
      "Iteration 43, loss = 0.36520776\n",
      "Iteration 44, loss = 0.36636777\n",
      "Iteration 45, loss = 0.35928087\n",
      "Iteration 46, loss = 0.35554704\n",
      "Iteration 47, loss = 0.35594060\n",
      "Iteration 48, loss = 0.35780554\n",
      "Iteration 49, loss = 0.34785653\n",
      "Iteration 50, loss = 0.34597682\n",
      "Iteration 51, loss = 0.36075246\n",
      "Iteration 52, loss = 0.33872792\n",
      "Iteration 53, loss = 0.34647404\n",
      "Iteration 54, loss = 0.34217626\n",
      "Iteration 55, loss = 0.34262816\n",
      "Iteration 56, loss = 0.34092467\n",
      "Iteration 57, loss = 0.34821316\n",
      "Iteration 58, loss = 0.34667165\n",
      "Iteration 59, loss = 0.33993996\n",
      "Iteration 60, loss = 0.33371240\n",
      "Iteration 61, loss = 0.34014008\n",
      "Iteration 62, loss = 0.33723893\n",
      "Iteration 63, loss = 0.33012877\n",
      "Iteration 64, loss = 0.33350862\n",
      "Iteration 65, loss = 0.34511442\n",
      "Iteration 66, loss = 0.32820306\n",
      "Iteration 67, loss = 0.33289014\n",
      "Iteration 68, loss = 0.40590691\n",
      "Iteration 69, loss = 0.35020679\n",
      "Iteration 70, loss = 0.35583307\n",
      "Iteration 71, loss = 0.34461701\n",
      "Iteration 72, loss = 0.34724965\n",
      "Iteration 73, loss = 0.33475930\n",
      "Iteration 74, loss = 0.33335078\n",
      "Iteration 75, loss = 0.33852356\n",
      "Iteration 76, loss = 0.33346981\n",
      "Iteration 77, loss = 0.34180361\n",
      "Training loss did not improve more than tol=0.000100 for 10 consecutive epochs. Stopping.\n"
     ]
    },
    {
     "data": {
      "text/plain": [
       "MLPClassifier(activation='logistic', batch_size=4, hidden_layer_sizes=(8, 5, 3),\n",
       "              learning_rate_init=0.03, max_iter=1000, random_state=2,\n",
       "              solver='sgd', verbose=True)"
      ]
     },
     "execution_count": 70,
     "metadata": {},
     "output_type": "execute_result"
    }
   ],
   "source": [
    "reg.fit(X_train,Y_train)"
   ]
  },
  {
   "cell_type": "code",
   "execution_count": 71,
   "metadata": {
    "ExecuteTime": {
     "end_time": "2020-11-06T18:54:37.060584Z",
     "start_time": "2020-11-06T18:54:37.044629Z"
    }
   },
   "outputs": [
    {
     "data": {
      "text/plain": [
       "array(['Average', 'Average', 'Average', 'Average', 'Poor', 'Average',\n",
       "       'Average', 'Poor', 'Poor', 'Average', 'Average', 'Average', 'Poor',\n",
       "       'Poor', 'Average', 'Poor', 'Average', 'Average', 'Average', 'Poor',\n",
       "       'Poor', 'Average', 'Average', 'Poor', 'Average', 'Average', 'Poor',\n",
       "       'Average', 'Average', 'Poor', 'Poor', 'Average', 'Average', 'Poor',\n",
       "       'Average', 'Poor', 'Average', 'Poor', 'Poor', 'Poor', 'Average',\n",
       "       'Poor', 'Poor', 'Average', 'Poor', 'Average', 'Poor', 'Average',\n",
       "       'Average', 'Average', 'Poor', 'Average', 'Average', 'Average',\n",
       "       'Poor', 'Poor', 'Poor', 'Average', 'Average', 'Poor', 'Average',\n",
       "       'Poor', 'Average', 'Average', 'Poor', 'Average', 'Poor', 'Average',\n",
       "       'Average', 'Average', 'Poor', 'Average', 'Poor', 'Average',\n",
       "       'Average', 'Poor', 'Poor', 'Poor', 'Average', 'Average', 'Poor',\n",
       "       'Average', 'Poor', 'Poor', 'Poor', 'Poor', 'Average', 'Average',\n",
       "       'Average', 'Poor', 'Poor', 'Poor', 'Poor', 'Average', 'Average',\n",
       "       'Poor', 'Average', 'Average', 'Poor', 'Poor', 'Poor', 'Average',\n",
       "       'Poor', 'Poor', 'Average', 'Average', 'Poor', 'Poor', 'Poor',\n",
       "       'Poor', 'Poor', 'Poor', 'Average', 'Average', 'Poor', 'Average',\n",
       "       'Poor', 'Average', 'Average', 'Poor', 'Average', 'Average',\n",
       "       'Average', 'Average', 'Poor', 'Average', 'Poor', 'Poor', 'Poor',\n",
       "       'Average', 'Average', 'Average', 'Poor', 'Average', 'Poor',\n",
       "       'Average', 'Poor', 'Average', 'Average', 'Poor', 'Average', 'Poor',\n",
       "       'Poor', 'Poor', 'Average', 'Average', 'Average', 'Average',\n",
       "       'Average', 'Average', 'Poor', 'Average', 'Average', 'Poor',\n",
       "       'Average', 'Average', 'Poor', 'Average', 'Average', 'Average',\n",
       "       'Average', 'Average', 'Average', 'Poor', 'Average', 'Poor',\n",
       "       'Average', 'Average', 'Average', 'Average', 'Poor', 'Average',\n",
       "       'Average', 'Average', 'Poor', 'Average', 'Average', 'Average',\n",
       "       'Average', 'Poor', 'Poor', 'Average', 'Average', 'Poor', 'Poor',\n",
       "       'Poor', 'Poor', 'Poor', 'Average', 'Poor', 'Average', 'Average',\n",
       "       'Average', 'Poor', 'Poor', 'Poor', 'Average', 'Average', 'Poor',\n",
       "       'Poor', 'Poor', 'Poor', 'Poor', 'Poor', 'Poor', 'Average',\n",
       "       'Average', 'Poor', 'Poor', 'Average', 'Poor', 'Poor', 'Average',\n",
       "       'Average', 'Poor', 'Average', 'Average', 'Poor', 'Poor', 'Average',\n",
       "       'Poor', 'Poor', 'Poor', 'Poor', 'Average', 'Poor', 'Poor', 'Poor',\n",
       "       'Average', 'Poor', 'Poor', 'Poor', 'Average', 'Poor', 'Poor',\n",
       "       'Poor', 'Average', 'Average', 'Poor', 'Poor', 'Average', 'Average',\n",
       "       'Poor', 'Poor', 'Poor', 'Poor', 'Average', 'Poor', 'Poor',\n",
       "       'Average', 'Poor', 'Average', 'Average', 'Average', 'Poor', 'Poor',\n",
       "       'Average', 'Poor', 'Average', 'Poor', 'Poor', 'Poor', 'Poor',\n",
       "       'Average', 'Average', 'Poor', 'Poor', 'Poor', 'Poor', 'Average',\n",
       "       'Average', 'Poor', 'Average', 'Average', 'Poor', 'Average', 'Poor',\n",
       "       'Poor', 'Average', 'Poor', 'Poor', 'Average', 'Average', 'Poor',\n",
       "       'Average', 'Poor', 'Average', 'Average', 'Poor', 'Poor', 'Average',\n",
       "       'Poor', 'Poor', 'Poor', 'Poor', 'Poor', 'Average', 'Average',\n",
       "       'Poor', 'Poor', 'Average', 'Poor', 'Average', 'Poor', 'Average',\n",
       "       'Poor', 'Average', 'Poor', 'Poor', 'Average', 'Poor', 'Poor',\n",
       "       'Average', 'Average', 'Average', 'Poor', 'Average', 'Poor',\n",
       "       'Average', 'Average', 'Poor', 'Average', 'Poor', 'Average',\n",
       "       'Average', 'Poor', 'Average', 'Poor', 'Poor', 'Poor', 'Poor',\n",
       "       'Average', 'Poor', 'Average', 'Average', 'Poor', 'Average',\n",
       "       'Average', 'Poor', 'Average', 'Poor', 'Poor', 'Poor', 'Average',\n",
       "       'Average', 'Poor', 'Poor', 'Poor', 'Average', 'Average', 'Average',\n",
       "       'Average', 'Average', 'Average', 'Poor', 'Poor', 'Average', 'Poor',\n",
       "       'Average', 'Poor', 'Poor', 'Poor', 'Average', 'Poor', 'Poor',\n",
       "       'Poor', 'Poor', 'Average', 'Average', 'Poor', 'Average', 'Poor',\n",
       "       'Average', 'Poor', 'Poor', 'Average', 'Poor', 'Poor', 'Average',\n",
       "       'Poor', 'Average', 'Poor', 'Average', 'Poor', 'Poor', 'Average',\n",
       "       'Average', 'Average', 'Poor', 'Poor', 'Average', 'Poor', 'Poor',\n",
       "       'Poor', 'Average', 'Average', 'Poor', 'Average', 'Average', 'Poor',\n",
       "       'Poor', 'Average', 'Poor', 'Average', 'Poor', 'Poor', 'Average',\n",
       "       'Average', 'Poor', 'Poor', 'Average', 'Average', 'Average',\n",
       "       'Average', 'Poor', 'Poor', 'Average', 'Poor', 'Poor', 'Poor',\n",
       "       'Poor', 'Average', 'Average', 'Average', 'Average', 'Poor', 'Poor',\n",
       "       'Average', 'Average', 'Poor', 'Poor', 'Average', 'Average', 'Poor',\n",
       "       'Average', 'Poor', 'Average', 'Poor', 'Poor', 'Average', 'Average',\n",
       "       'Average', 'Average', 'Average', 'Poor', 'Poor', 'Poor', 'Average',\n",
       "       'Average', 'Poor', 'Average', 'Average', 'Poor', 'Poor', 'Average',\n",
       "       'Average', 'Average', 'Poor', 'Poor', 'Poor', 'Average', 'Poor',\n",
       "       'Poor', 'Poor', 'Average', 'Poor', 'Average', 'Poor', 'Average',\n",
       "       'Average', 'Poor', 'Average', 'Poor', 'Average', 'Average', 'Poor',\n",
       "       'Average', 'Poor', 'Average', 'Average', 'Poor', 'Poor', 'Poor',\n",
       "       'Poor', 'Average', 'Average', 'Poor', 'Average', 'Average', 'Poor',\n",
       "       'Average', 'Average', 'Average', 'Poor', 'Poor', 'Poor', 'Poor',\n",
       "       'Average', 'Average', 'Poor', 'Poor', 'Average', 'Poor', 'Poor',\n",
       "       'Average', 'Average', 'Poor', 'Poor', 'Average', 'Poor', 'Poor',\n",
       "       'Average', 'Poor', 'Poor', 'Poor', 'Poor', 'Average', 'Poor',\n",
       "       'Average', 'Poor', 'Poor', 'Poor', 'Average', 'Average', 'Poor',\n",
       "       'Poor', 'Average', 'Average', 'Average', 'Average', 'Average',\n",
       "       'Poor', 'Poor', 'Poor', 'Average', 'Average', 'Average', 'Average',\n",
       "       'Average', 'Poor', 'Poor', 'Poor', 'Poor', 'Average', 'Average',\n",
       "       'Average', 'Poor', 'Poor', 'Poor', 'Poor', 'Average', 'Poor',\n",
       "       'Poor', 'Average', 'Average', 'Average', 'Average', 'Average',\n",
       "       'Poor', 'Poor', 'Poor', 'Average', 'Average', 'Poor', 'Average',\n",
       "       'Average', 'Poor', 'Average', 'Poor', 'Average', 'Average', 'Poor',\n",
       "       'Poor', 'Average', 'Average', 'Average', 'Average', 'Average',\n",
       "       'Poor', 'Poor', 'Average', 'Average', 'Average', 'Poor', 'Poor',\n",
       "       'Poor', 'Average', 'Average', 'Average', 'Average', 'Poor', 'Poor',\n",
       "       'Poor', 'Average', 'Average', 'Poor', 'Poor', 'Poor', 'Poor',\n",
       "       'Poor', 'Poor', 'Poor', 'Poor', 'Poor', 'Poor', 'Average', 'Poor',\n",
       "       'Poor', 'Poor', 'Poor', 'Average', 'Average', 'Poor', 'Average',\n",
       "       'Average', 'Average', 'Poor', 'Average', 'Average', 'Poor',\n",
       "       'Average', 'Poor', 'Average', 'Poor', 'Average', 'Average',\n",
       "       'Average', 'Average', 'Poor', 'Poor', 'Average', 'Poor', 'Average',\n",
       "       'Poor', 'Poor', 'Poor', 'Poor', 'Poor', 'Poor', 'Average',\n",
       "       'Average', 'Poor', 'Poor', 'Poor', 'Poor', 'Poor', 'Average',\n",
       "       'Poor', 'Average', 'Average', 'Average', 'Average', 'Poor',\n",
       "       'Average', 'Average', 'Poor', 'Average', 'Average', 'Poor',\n",
       "       'Average', 'Poor', 'Average', 'Average', 'Poor', 'Average',\n",
       "       'Average', 'Poor', 'Average', 'Average', 'Poor', 'Poor', 'Poor',\n",
       "       'Average', 'Average', 'Poor', 'Average', 'Average', 'Poor',\n",
       "       'Average', 'Poor', 'Poor', 'Average', 'Average', 'Poor', 'Average',\n",
       "       'Poor', 'Average', 'Average', 'Poor', 'Average', 'Average',\n",
       "       'Average', 'Poor', 'Poor', 'Average', 'Poor', 'Average', 'Average',\n",
       "       'Average', 'Poor', 'Average', 'Poor', 'Average', 'Poor', 'Poor',\n",
       "       'Poor', 'Average', 'Average', 'Average', 'Poor', 'Average',\n",
       "       'Average', 'Poor', 'Poor', 'Average', 'Poor', 'Poor', 'Poor',\n",
       "       'Poor', 'Poor', 'Average', 'Poor', 'Poor'], dtype='<U7')"
      ]
     },
     "execution_count": 71,
     "metadata": {},
     "output_type": "execute_result"
    }
   ],
   "source": [
    "y_pred = reg.predict(X_test)\n",
    "y_pred"
   ]
  },
  {
   "cell_type": "code",
   "execution_count": 72,
   "metadata": {
    "ExecuteTime": {
     "end_time": "2020-11-06T18:54:37.076541Z",
     "start_time": "2020-11-06T18:54:37.065571Z"
    }
   },
   "outputs": [
    {
     "name": "stdout",
     "output_type": "stream",
     "text": [
      "0.8257261410788381\n"
     ]
    }
   ],
   "source": [
    "from sklearn.metrics import accuracy_score\n",
    "print(accuracy_score(y_pred,Y_test))"
   ]
  },
  {
   "cell_type": "markdown",
   "metadata": {
    "ExecuteTime": {
     "end_time": "2020-11-06T09:16:43.819015Z",
     "start_time": "2020-11-06T09:16:43.812032Z"
    }
   },
   "source": [
    "### using sklearn neural network , We got 84 percent accuracy"
   ]
  },
  {
   "cell_type": "markdown",
   "metadata": {},
   "source": [
    "### using keras"
   ]
  },
  {
   "cell_type": "code",
   "execution_count": 73,
   "metadata": {
    "ExecuteTime": {
     "end_time": "2020-11-06T18:54:37.087511Z",
     "start_time": "2020-11-06T18:54:37.080530Z"
    }
   },
   "outputs": [],
   "source": [
    "#df['quality'] = df['quality'].apply(lambda x : 1 if x == 'Good' else 2 if x == 'Average' else 0)"
   ]
  },
  {
   "cell_type": "code",
   "execution_count": 74,
   "metadata": {
    "ExecuteTime": {
     "end_time": "2020-11-06T18:54:37.109453Z",
     "start_time": "2020-11-06T18:54:37.091502Z"
    }
   },
   "outputs": [],
   "source": [
    "## using data X_sm and Y_sm"
   ]
  },
  {
   "cell_type": "code",
   "execution_count": 75,
   "metadata": {
    "ExecuteTime": {
     "end_time": "2020-11-06T18:54:39.412228Z",
     "start_time": "2020-11-06T18:54:37.114440Z"
    }
   },
   "outputs": [
    {
     "data": {
      "text/plain": [
       "array([[1., 0., 0.],\n",
       "       [1., 0., 0.],\n",
       "       [1., 0., 0.],\n",
       "       ...,\n",
       "       [0., 0., 1.],\n",
       "       [0., 0., 1.],\n",
       "       [0., 0., 1.]], dtype=float32)"
      ]
     },
     "execution_count": 75,
     "metadata": {},
     "output_type": "execute_result"
    }
   ],
   "source": [
    "from sklearn.preprocessing import LabelEncoder\n",
    "encoder = LabelEncoder()\n",
    "Y_sm = encoder.fit_transform(Y_sm)\n",
    "\n",
    "\n",
    "## converting integers to dummy variables(i.e. one hot encoding)\n",
    "\n",
    "from keras.utils import to_categorical \n",
    "Y_sm = to_categorical(Y_sm, 3)\n",
    "Y_sm\n",
    "##3 - total classes"
   ]
  },
  {
   "cell_type": "code",
   "execution_count": 76,
   "metadata": {
    "ExecuteTime": {
     "end_time": "2020-11-06T18:54:39.424197Z",
     "start_time": "2020-11-06T18:54:39.415221Z"
    }
   },
   "outputs": [
    {
     "data": {
      "text/plain": [
       "array([[-0.53041737,  0.97611835, -1.40334654, ...,  1.34848468,\n",
       "        -0.6155535 , -0.97530582],\n",
       "       [-0.29386401,  1.99538316, -1.40334654, ..., -0.74242662,\n",
       "         0.15420698, -0.59430892],\n",
       "       [-0.29386401,  1.31587329, -1.19662644, ..., -0.33773411,\n",
       "        -0.03823314, -0.59430892],\n",
       "       ...,\n",
       "       [-0.05086745,  1.36434545, -1.25695038, ...,  0.36011026,\n",
       "        -1.20809836, -0.82631759],\n",
       "       [ 0.80179691, -0.01636717, -0.09331665, ...,  0.08055035,\n",
       "        -0.88656118, -0.55370171],\n",
       "       [-0.81778079,  2.67489303, -1.08841444, ...,  1.35323398,\n",
       "        -1.42386553,  0.92520749]])"
      ]
     },
     "execution_count": 76,
     "metadata": {},
     "output_type": "execute_result"
    }
   ],
   "source": [
    "X_sm"
   ]
  },
  {
   "cell_type": "code",
   "execution_count": 77,
   "metadata": {
    "ExecuteTime": {
     "end_time": "2020-11-06T18:54:39.440155Z",
     "start_time": "2020-11-06T18:54:39.428185Z"
    }
   },
   "outputs": [],
   "source": [
    "from sklearn.model_selection import train_test_split\n",
    "\n",
    "X_train,X_test,Y_train,Y_test = train_test_split(X_sm,Y_sm,random_state = 20, train_size = 0.3)"
   ]
  },
  {
   "cell_type": "code",
   "execution_count": 78,
   "metadata": {
    "ExecuteTime": {
     "end_time": "2020-11-06T18:54:39.544889Z",
     "start_time": "2020-11-06T18:54:39.443149Z"
    }
   },
   "outputs": [],
   "source": [
    "from keras.models import Sequential\n",
    "from keras.layers import Dense\n",
    " \n",
    "model = Sequential()\n",
    "model.add(Dense(22, input_dim = 11, activation = 'softmax'))\n",
    "model.add(Dense(12, activation = 'softmax'))\n",
    "model.add(Dense(3, activation = 'softmax'))"
   ]
  },
  {
   "cell_type": "code",
   "execution_count": 79,
   "metadata": {
    "ExecuteTime": {
     "end_time": "2020-11-06T18:54:39.558835Z",
     "start_time": "2020-11-06T18:54:39.548862Z"
    }
   },
   "outputs": [
    {
     "data": {
      "text/plain": [
       "(722, 11)"
      ]
     },
     "execution_count": 79,
     "metadata": {},
     "output_type": "execute_result"
    }
   ],
   "source": [
    "X_train.shape"
   ]
  },
  {
   "cell_type": "code",
   "execution_count": 80,
   "metadata": {
    "ExecuteTime": {
     "end_time": "2020-11-06T18:54:39.583769Z",
     "start_time": "2020-11-06T18:54:39.562826Z"
    }
   },
   "outputs": [],
   "source": [
    " # Compile model\n",
    "model.compile(optimizer = 'adam', metrics = 'accuracy', loss = 'categorical_crossentropy')\n",
    "    "
   ]
  },
  {
   "cell_type": "code",
   "execution_count": 81,
   "metadata": {
    "ExecuteTime": {
     "end_time": "2020-11-06T18:54:39.695471Z",
     "start_time": "2020-11-06T18:54:39.587759Z"
    }
   },
   "outputs": [],
   "source": [
    "??Sequential"
   ]
  },
  {
   "cell_type": "code",
   "execution_count": 82,
   "metadata": {
    "ExecuteTime": {
     "end_time": "2020-11-06T18:54:39.706456Z",
     "start_time": "2020-11-06T18:54:39.701454Z"
    }
   },
   "outputs": [],
   "source": [
    "#from keras.utils import to_categorical \n",
    "#Y_train = to_categorical(Y_train, 3)\n",
    "#Y_test = to_categorical(Y_test, 3)\n",
    "##3 - total classes"
   ]
  },
  {
   "cell_type": "code",
   "execution_count": 83,
   "metadata": {
    "ExecuteTime": {
     "end_time": "2020-11-06T18:54:39.724393Z",
     "start_time": "2020-11-06T18:54:39.710431Z"
    }
   },
   "outputs": [
    {
     "data": {
      "text/plain": [
       "(722, 11)"
      ]
     },
     "execution_count": 83,
     "metadata": {},
     "output_type": "execute_result"
    }
   ],
   "source": [
    "X_train.shape"
   ]
  },
  {
   "cell_type": "code",
   "execution_count": 84,
   "metadata": {
    "ExecuteTime": {
     "end_time": "2020-11-06T18:54:39.740350Z",
     "start_time": "2020-11-06T18:54:39.728382Z"
    }
   },
   "outputs": [
    {
     "data": {
      "text/plain": [
       "array([[0., 0., 1.],\n",
       "       [1., 0., 0.],\n",
       "       [0., 0., 1.],\n",
       "       ...,\n",
       "       [0., 0., 1.],\n",
       "       [0., 0., 1.],\n",
       "       [1., 0., 0.]], dtype=float32)"
      ]
     },
     "execution_count": 84,
     "metadata": {},
     "output_type": "execute_result"
    }
   ],
   "source": [
    "Y_train"
   ]
  },
  {
   "cell_type": "code",
   "execution_count": 85,
   "metadata": {
    "ExecuteTime": {
     "end_time": "2020-11-06T18:54:39.766281Z",
     "start_time": "2020-11-06T18:54:39.743342Z"
    }
   },
   "outputs": [
    {
     "data": {
      "text/plain": [
       "[<tf.Variable 'dense/kernel:0' shape=(11, 22) dtype=float32, numpy=\n",
       " array([[ 0.17759603,  0.19975805,  0.05820414,  0.13699007, -0.0145939 ,\n",
       "         -0.00398323,  0.32908934, -0.35857478, -0.03708172, -0.2767663 ,\n",
       "         -0.19856729, -0.18368925,  0.22404045,  0.02600738,  0.22263932,\n",
       "          0.01595849,  0.2596987 , -0.18211949, -0.31135803,  0.1507402 ,\n",
       "          0.28950244,  0.15959007],\n",
       "        [-0.17836745,  0.31902927, -0.0455274 ,  0.12169576,  0.09518862,\n",
       "         -0.20522004, -0.09425259, -0.16531494,  0.1335364 ,  0.13576514,\n",
       "          0.4251216 ,  0.19835967, -0.19787496, -0.38496196,  0.32558656,\n",
       "          0.12483209, -0.11513165,  0.42336398,  0.29669136, -0.19377819,\n",
       "          0.41011465,  0.27451146],\n",
       "        [-0.21024917,  0.01561874, -0.09771764,  0.19160688,  0.38508153,\n",
       "         -0.0940327 , -0.3289295 ,  0.07925969,  0.30956542,  0.34769785,\n",
       "         -0.02149683, -0.09802547,  0.37604803, -0.25858802, -0.18476595,\n",
       "         -0.17980881, -0.2527876 , -0.3551758 ,  0.40390635, -0.1474264 ,\n",
       "         -0.09805667,  0.2545449 ],\n",
       "        [ 0.02264634,  0.00374666, -0.34271803,  0.32558954,  0.27535355,\n",
       "         -0.406998  ,  0.2870347 , -0.0052481 ,  0.2881412 , -0.1332655 ,\n",
       "          0.03659263, -0.2628628 ,  0.3536576 , -0.05900759,  0.4230709 ,\n",
       "         -0.34700024,  0.04029649, -0.42298853, -0.23473212, -0.3530543 ,\n",
       "         -0.37600717, -0.33381143],\n",
       "        [-0.26359174, -0.3720382 ,  0.23337454,  0.1621257 ,  0.40410733,\n",
       "         -0.19040352, -0.23091644,  0.10070813,  0.0957619 , -0.10556167,\n",
       "         -0.10948452, -0.36775392, -0.35540292,  0.27972275,  0.39094132,\n",
       "         -0.1629867 ,  0.0346947 , -0.28572154, -0.37299573,  0.3217963 ,\n",
       "         -0.19553603, -0.1276451 ],\n",
       "        [ 0.21480107,  0.39865363,  0.11893004,  0.35675728,  0.3149094 ,\n",
       "          0.3388312 ,  0.4211616 , -0.41981873, -0.20672627,  0.15293008,\n",
       "         -0.17890473,  0.2581957 , -0.06601587, -0.40408307, -0.12190539,\n",
       "          0.04780006,  0.00658476,  0.23966527,  0.27560788, -0.34543324,\n",
       "         -0.138856  , -0.08522865],\n",
       "        [-0.02042767,  0.02843028,  0.09766507, -0.22293435,  0.16282523,\n",
       "          0.20895219,  0.2744823 ,  0.41901684, -0.04112634,  0.1668902 ,\n",
       "          0.25701952,  0.03437701,  0.18241358,  0.2109428 ,  0.4139995 ,\n",
       "         -0.21144867, -0.32547137, -0.14316607,  0.15826327, -0.0010156 ,\n",
       "          0.00951231, -0.29477495],\n",
       "        [-0.15274647, -0.33291924,  0.06942326,  0.18183249,  0.11969262,\n",
       "          0.29719102, -0.39181805,  0.34714305,  0.05700648,  0.30887556,\n",
       "          0.16041982, -0.27310446, -0.41878745, -0.08983579,  0.16528118,\n",
       "         -0.31297153,  0.12203521, -0.1020146 , -0.41269007,  0.39787406,\n",
       "         -0.14809066,  0.30634308],\n",
       "        [ 0.2890663 , -0.15424132,  0.27221656,  0.2785468 ,  0.2697422 ,\n",
       "         -0.31769952, -0.07906693, -0.23417461,  0.28269625,  0.03952733,\n",
       "          0.0351162 ,  0.09376329,  0.1661812 ,  0.09902382,  0.13858616,\n",
       "          0.39839852, -0.28269994,  0.31312156,  0.13686079,  0.03940237,\n",
       "          0.2959512 ,  0.30113834],\n",
       "        [-0.34630355, -0.27066255,  0.36715782, -0.37709808,  0.30697507,\n",
       "          0.31942147,  0.15328354, -0.01009798,  0.09685779, -0.00733206,\n",
       "          0.21696204,  0.14157403, -0.06296834, -0.06541291,  0.24993366,\n",
       "         -0.33000886,  0.20260578,  0.22222984,  0.2228651 ,  0.40150928,\n",
       "         -0.05379558, -0.13733482],\n",
       "        [ 0.30798876,  0.31179398, -0.06592467,  0.03602627, -0.28134447,\n",
       "         -0.00703421, -0.18897578, -0.10858753,  0.12980473,  0.36677563,\n",
       "         -0.06623605, -0.3506864 ,  0.01037136, -0.1879004 ,  0.05100322,\n",
       "          0.4025932 ,  0.20324355, -0.40915507, -0.28467187, -0.27618897,\n",
       "         -0.19658183,  0.01531264]], dtype=float32)>,\n",
       " <tf.Variable 'dense/bias:0' shape=(22,) dtype=float32, numpy=\n",
       " array([0., 0., 0., 0., 0., 0., 0., 0., 0., 0., 0., 0., 0., 0., 0., 0., 0.,\n",
       "        0., 0., 0., 0., 0.], dtype=float32)>,\n",
       " <tf.Variable 'dense_1/kernel:0' shape=(22, 12) dtype=float32, numpy=\n",
       " array([[-9.08582807e-02, -9.29719508e-02, -2.24455744e-01,\n",
       "         -1.02161974e-01, -4.08910245e-01, -1.65009141e-01,\n",
       "         -1.11621886e-01,  1.23540312e-01,  2.61003882e-01,\n",
       "          1.37866706e-01, -3.85264158e-01, -3.99916857e-01],\n",
       "        [ 2.88243592e-02, -2.73072302e-01, -3.76272470e-01,\n",
       "         -2.46560037e-01, -4.79884744e-02,  2.87190944e-01,\n",
       "         -3.62383753e-01, -3.69119734e-01, -1.34661019e-01,\n",
       "         -2.11245686e-01,  3.05796891e-01,  2.20541060e-02],\n",
       "        [-7.78090656e-02,  3.37346822e-01, -9.67127681e-02,\n",
       "         -4.94656563e-02,  3.95773023e-01,  2.42972761e-01,\n",
       "         -4.13524508e-01,  2.75004178e-01, -1.15135640e-01,\n",
       "          3.06859642e-01, -1.64368749e-02, -6.68109655e-02],\n",
       "        [-3.26762825e-01, -2.40670443e-02,  6.80611134e-02,\n",
       "         -2.94686496e-01, -5.97428679e-02, -3.23021710e-01,\n",
       "         -1.49858057e-01,  2.39313334e-01,  3.09559435e-01,\n",
       "          9.81646478e-02, -7.02843666e-02,  3.31712335e-01],\n",
       "        [-5.88791072e-02,  4.64701056e-02, -3.54948491e-01,\n",
       "         -2.11043075e-01, -2.25721717e-01, -1.68328315e-01,\n",
       "         -2.11769208e-01, -2.90328741e-01, -3.57560247e-01,\n",
       "          2.92993098e-01, -8.64201784e-02, -1.60260260e-01],\n",
       "        [ 3.07527184e-03,  2.72147268e-01, -1.14037842e-01,\n",
       "          2.05993921e-01, -5.79478741e-02,  3.74633402e-01,\n",
       "         -1.93722218e-01,  9.63530242e-02,  2.02853650e-01,\n",
       "          1.77913904e-02,  1.83089465e-01, -6.24670982e-02],\n",
       "        [ 3.49381894e-01, -3.06015730e-01,  3.81581694e-01,\n",
       "         -1.62595600e-01, -7.90923834e-04, -1.17853969e-01,\n",
       "          3.16907495e-01,  3.73953253e-01,  1.21858716e-03,\n",
       "          3.03851575e-01,  2.77628869e-01,  1.45501167e-01],\n",
       "        [-2.08088756e-02, -4.01266336e-01,  2.80315071e-01,\n",
       "          6.82277679e-02,  1.85911357e-02,  3.49586934e-01,\n",
       "         -4.15980130e-01, -1.19348586e-01,  8.82627070e-02,\n",
       "          3.82142991e-01,  3.70964974e-01, -1.65392458e-02],\n",
       "        [-1.53994620e-01,  2.53836185e-01, -3.84696424e-02,\n",
       "         -3.84624600e-02,  3.58922869e-01,  1.56617016e-01,\n",
       "         -1.66939735e-01, -2.48625249e-01,  1.21318251e-01,\n",
       "          6.62923455e-02,  2.82151014e-01,  3.20855528e-01],\n",
       "        [-1.07619464e-02, -4.17863786e-01, -3.95183682e-01,\n",
       "         -2.38841921e-01,  1.19474620e-01, -1.73038542e-01,\n",
       "         -1.58106506e-01,  2.96014547e-02,  7.49930739e-02,\n",
       "          2.68513471e-01, -2.25739643e-01, -1.26390070e-01],\n",
       "        [ 2.90948421e-01, -3.90942395e-02, -4.20001298e-01,\n",
       "         -3.59499961e-01, -3.05788785e-01,  3.99188489e-01,\n",
       "         -3.97324413e-01,  3.34501356e-01, -8.11529756e-02,\n",
       "         -3.99423182e-01,  1.50697798e-01,  1.71018809e-01],\n",
       "        [ 3.59671503e-01,  1.65492803e-01,  1.86351150e-01,\n",
       "         -7.21433461e-02,  7.88191259e-02, -3.82752240e-01,\n",
       "         -3.59294236e-01, -2.64875948e-01, -7.69525468e-02,\n",
       "          1.15210980e-01,  1.76074535e-01,  2.76467353e-01],\n",
       "        [ 2.30314046e-01, -1.60765439e-01,  5.01788855e-02,\n",
       "         -5.59448600e-02,  1.94122940e-01,  2.27707475e-01,\n",
       "         -2.13128120e-01,  4.17085856e-01, -4.00159031e-01,\n",
       "          3.60088795e-01, -3.06776226e-01, -1.64160520e-01],\n",
       "        [ 1.94713265e-01,  2.27645040e-03,  2.36956269e-01,\n",
       "          3.80487829e-01, -3.78298819e-01, -3.59764665e-01,\n",
       "         -1.99191138e-01, -1.71482921e-01, -9.09541249e-02,\n",
       "          1.09459728e-01,  1.62505537e-01,  2.40602285e-01],\n",
       "        [-7.27713406e-02, -2.19902396e-03,  2.66359061e-01,\n",
       "          2.01723248e-01, -2.27992833e-02,  2.17589349e-01,\n",
       "         -2.72772014e-01, -3.22714835e-01,  1.34013623e-01,\n",
       "         -4.00521904e-01, -3.06846946e-01,  2.01951414e-01],\n",
       "        [-2.30151206e-01,  3.07996273e-02, -2.49723256e-01,\n",
       "          4.11303669e-01,  2.82972306e-01, -1.33576125e-01,\n",
       "          1.94818407e-01, -5.34774065e-02, -3.29507798e-01,\n",
       "         -1.63548380e-01, -2.65878290e-01,  5.39092720e-02],\n",
       "        [ 3.83194715e-01,  3.61605138e-01, -8.73768628e-02,\n",
       "          2.20688671e-01,  4.10062939e-01,  4.15574104e-01,\n",
       "          1.35834426e-01,  2.54215151e-01,  1.44168526e-01,\n",
       "         -8.33618939e-02, -2.43908167e-03, -1.02605045e-01],\n",
       "        [ 1.97920352e-01,  3.02637070e-01, -2.23076999e-01,\n",
       "          2.19697028e-01,  6.40822947e-02,  3.45987350e-01,\n",
       "          2.93548375e-01,  2.90947109e-01,  2.20863849e-01,\n",
       "          7.72136450e-02, -4.65114713e-02, -9.43543017e-02],\n",
       "        [ 3.12458187e-01,  8.85319412e-02, -2.70572484e-01,\n",
       "          3.23283285e-01,  8.19279850e-02, -6.50462210e-02,\n",
       "         -2.45183706e-04,  2.83101290e-01,  2.51716644e-01,\n",
       "          1.75796956e-01, -2.13924050e-01, -1.75084919e-01],\n",
       "        [ 2.93754190e-01, -4.11313385e-01,  3.68981689e-01,\n",
       "          1.58100277e-01,  8.28091204e-02,  3.81205648e-01,\n",
       "          4.01408762e-01,  9.29465890e-03, -2.16559559e-01,\n",
       "          2.75742441e-01, -2.42242813e-01, -2.82673329e-01],\n",
       "        [ 3.59305173e-01,  1.41761690e-01, -3.15618873e-01,\n",
       "          2.75345415e-01, -3.06533039e-01,  4.16400999e-01,\n",
       "          1.81427985e-01, -3.18222046e-02, -1.37506157e-01,\n",
       "         -1.96020499e-01, -9.37813222e-02, -1.65574819e-01],\n",
       "        [-2.90601164e-01,  3.21469694e-01,  1.84783429e-01,\n",
       "         -3.42384636e-01, -1.98193580e-01, -9.90070403e-02,\n",
       "         -6.53330684e-02,  1.29995346e-02,  7.49316812e-02,\n",
       "         -7.62739778e-02, -9.01066959e-02, -1.04875594e-01]], dtype=float32)>,\n",
       " <tf.Variable 'dense_1/bias:0' shape=(12,) dtype=float32, numpy=array([0., 0., 0., 0., 0., 0., 0., 0., 0., 0., 0., 0.], dtype=float32)>,\n",
       " <tf.Variable 'dense_2/kernel:0' shape=(12, 3) dtype=float32, numpy=\n",
       " array([[ 0.13859993, -0.34968713,  0.5035644 ],\n",
       "        [ 0.13157153,  0.5202604 , -0.3255907 ],\n",
       "        [ 0.32431823,  0.05007768, -0.06005901],\n",
       "        [ 0.616775  , -0.43056077,  0.5729694 ],\n",
       "        [ 0.5427641 , -0.6255343 ,  0.3365811 ],\n",
       "        [-0.11563808,  0.13686001, -0.10083407],\n",
       "        [ 0.00880849, -0.3732158 ,  0.01845914],\n",
       "        [ 0.32252997,  0.429982  ,  0.15598625],\n",
       "        [-0.24991536, -0.63111305, -0.05380189],\n",
       "        [-0.33813125, -0.5042534 ,  0.5244698 ],\n",
       "        [-0.5126673 , -0.4185973 ,  0.36328   ],\n",
       "        [-0.09645241,  0.6035581 , -0.32016638]], dtype=float32)>,\n",
       " <tf.Variable 'dense_2/bias:0' shape=(3,) dtype=float32, numpy=array([0., 0., 0.], dtype=float32)>]"
      ]
     },
     "execution_count": 85,
     "metadata": {},
     "output_type": "execute_result"
    }
   ],
   "source": [
    "model.weights"
   ]
  },
  {
   "cell_type": "code",
   "execution_count": 86,
   "metadata": {
    "ExecuteTime": {
     "end_time": "2020-11-06T18:54:39.789219Z",
     "start_time": "2020-11-06T18:54:39.769274Z"
    }
   },
   "outputs": [
    {
     "data": {
      "text/plain": [
       "[<tf.Variable 'dense/kernel:0' shape=(11, 22) dtype=float32, numpy=\n",
       " array([[ 0.17759603,  0.19975805,  0.05820414,  0.13699007, -0.0145939 ,\n",
       "         -0.00398323,  0.32908934, -0.35857478, -0.03708172, -0.2767663 ,\n",
       "         -0.19856729, -0.18368925,  0.22404045,  0.02600738,  0.22263932,\n",
       "          0.01595849,  0.2596987 , -0.18211949, -0.31135803,  0.1507402 ,\n",
       "          0.28950244,  0.15959007],\n",
       "        [-0.17836745,  0.31902927, -0.0455274 ,  0.12169576,  0.09518862,\n",
       "         -0.20522004, -0.09425259, -0.16531494,  0.1335364 ,  0.13576514,\n",
       "          0.4251216 ,  0.19835967, -0.19787496, -0.38496196,  0.32558656,\n",
       "          0.12483209, -0.11513165,  0.42336398,  0.29669136, -0.19377819,\n",
       "          0.41011465,  0.27451146],\n",
       "        [-0.21024917,  0.01561874, -0.09771764,  0.19160688,  0.38508153,\n",
       "         -0.0940327 , -0.3289295 ,  0.07925969,  0.30956542,  0.34769785,\n",
       "         -0.02149683, -0.09802547,  0.37604803, -0.25858802, -0.18476595,\n",
       "         -0.17980881, -0.2527876 , -0.3551758 ,  0.40390635, -0.1474264 ,\n",
       "         -0.09805667,  0.2545449 ],\n",
       "        [ 0.02264634,  0.00374666, -0.34271803,  0.32558954,  0.27535355,\n",
       "         -0.406998  ,  0.2870347 , -0.0052481 ,  0.2881412 , -0.1332655 ,\n",
       "          0.03659263, -0.2628628 ,  0.3536576 , -0.05900759,  0.4230709 ,\n",
       "         -0.34700024,  0.04029649, -0.42298853, -0.23473212, -0.3530543 ,\n",
       "         -0.37600717, -0.33381143],\n",
       "        [-0.26359174, -0.3720382 ,  0.23337454,  0.1621257 ,  0.40410733,\n",
       "         -0.19040352, -0.23091644,  0.10070813,  0.0957619 , -0.10556167,\n",
       "         -0.10948452, -0.36775392, -0.35540292,  0.27972275,  0.39094132,\n",
       "         -0.1629867 ,  0.0346947 , -0.28572154, -0.37299573,  0.3217963 ,\n",
       "         -0.19553603, -0.1276451 ],\n",
       "        [ 0.21480107,  0.39865363,  0.11893004,  0.35675728,  0.3149094 ,\n",
       "          0.3388312 ,  0.4211616 , -0.41981873, -0.20672627,  0.15293008,\n",
       "         -0.17890473,  0.2581957 , -0.06601587, -0.40408307, -0.12190539,\n",
       "          0.04780006,  0.00658476,  0.23966527,  0.27560788, -0.34543324,\n",
       "         -0.138856  , -0.08522865],\n",
       "        [-0.02042767,  0.02843028,  0.09766507, -0.22293435,  0.16282523,\n",
       "          0.20895219,  0.2744823 ,  0.41901684, -0.04112634,  0.1668902 ,\n",
       "          0.25701952,  0.03437701,  0.18241358,  0.2109428 ,  0.4139995 ,\n",
       "         -0.21144867, -0.32547137, -0.14316607,  0.15826327, -0.0010156 ,\n",
       "          0.00951231, -0.29477495],\n",
       "        [-0.15274647, -0.33291924,  0.06942326,  0.18183249,  0.11969262,\n",
       "          0.29719102, -0.39181805,  0.34714305,  0.05700648,  0.30887556,\n",
       "          0.16041982, -0.27310446, -0.41878745, -0.08983579,  0.16528118,\n",
       "         -0.31297153,  0.12203521, -0.1020146 , -0.41269007,  0.39787406,\n",
       "         -0.14809066,  0.30634308],\n",
       "        [ 0.2890663 , -0.15424132,  0.27221656,  0.2785468 ,  0.2697422 ,\n",
       "         -0.31769952, -0.07906693, -0.23417461,  0.28269625,  0.03952733,\n",
       "          0.0351162 ,  0.09376329,  0.1661812 ,  0.09902382,  0.13858616,\n",
       "          0.39839852, -0.28269994,  0.31312156,  0.13686079,  0.03940237,\n",
       "          0.2959512 ,  0.30113834],\n",
       "        [-0.34630355, -0.27066255,  0.36715782, -0.37709808,  0.30697507,\n",
       "          0.31942147,  0.15328354, -0.01009798,  0.09685779, -0.00733206,\n",
       "          0.21696204,  0.14157403, -0.06296834, -0.06541291,  0.24993366,\n",
       "         -0.33000886,  0.20260578,  0.22222984,  0.2228651 ,  0.40150928,\n",
       "         -0.05379558, -0.13733482],\n",
       "        [ 0.30798876,  0.31179398, -0.06592467,  0.03602627, -0.28134447,\n",
       "         -0.00703421, -0.18897578, -0.10858753,  0.12980473,  0.36677563,\n",
       "         -0.06623605, -0.3506864 ,  0.01037136, -0.1879004 ,  0.05100322,\n",
       "          0.4025932 ,  0.20324355, -0.40915507, -0.28467187, -0.27618897,\n",
       "         -0.19658183,  0.01531264]], dtype=float32)>,\n",
       " <tf.Variable 'dense/bias:0' shape=(22,) dtype=float32, numpy=\n",
       " array([0., 0., 0., 0., 0., 0., 0., 0., 0., 0., 0., 0., 0., 0., 0., 0., 0.,\n",
       "        0., 0., 0., 0., 0.], dtype=float32)>,\n",
       " <tf.Variable 'dense_1/kernel:0' shape=(22, 12) dtype=float32, numpy=\n",
       " array([[-9.08582807e-02, -9.29719508e-02, -2.24455744e-01,\n",
       "         -1.02161974e-01, -4.08910245e-01, -1.65009141e-01,\n",
       "         -1.11621886e-01,  1.23540312e-01,  2.61003882e-01,\n",
       "          1.37866706e-01, -3.85264158e-01, -3.99916857e-01],\n",
       "        [ 2.88243592e-02, -2.73072302e-01, -3.76272470e-01,\n",
       "         -2.46560037e-01, -4.79884744e-02,  2.87190944e-01,\n",
       "         -3.62383753e-01, -3.69119734e-01, -1.34661019e-01,\n",
       "         -2.11245686e-01,  3.05796891e-01,  2.20541060e-02],\n",
       "        [-7.78090656e-02,  3.37346822e-01, -9.67127681e-02,\n",
       "         -4.94656563e-02,  3.95773023e-01,  2.42972761e-01,\n",
       "         -4.13524508e-01,  2.75004178e-01, -1.15135640e-01,\n",
       "          3.06859642e-01, -1.64368749e-02, -6.68109655e-02],\n",
       "        [-3.26762825e-01, -2.40670443e-02,  6.80611134e-02,\n",
       "         -2.94686496e-01, -5.97428679e-02, -3.23021710e-01,\n",
       "         -1.49858057e-01,  2.39313334e-01,  3.09559435e-01,\n",
       "          9.81646478e-02, -7.02843666e-02,  3.31712335e-01],\n",
       "        [-5.88791072e-02,  4.64701056e-02, -3.54948491e-01,\n",
       "         -2.11043075e-01, -2.25721717e-01, -1.68328315e-01,\n",
       "         -2.11769208e-01, -2.90328741e-01, -3.57560247e-01,\n",
       "          2.92993098e-01, -8.64201784e-02, -1.60260260e-01],\n",
       "        [ 3.07527184e-03,  2.72147268e-01, -1.14037842e-01,\n",
       "          2.05993921e-01, -5.79478741e-02,  3.74633402e-01,\n",
       "         -1.93722218e-01,  9.63530242e-02,  2.02853650e-01,\n",
       "          1.77913904e-02,  1.83089465e-01, -6.24670982e-02],\n",
       "        [ 3.49381894e-01, -3.06015730e-01,  3.81581694e-01,\n",
       "         -1.62595600e-01, -7.90923834e-04, -1.17853969e-01,\n",
       "          3.16907495e-01,  3.73953253e-01,  1.21858716e-03,\n",
       "          3.03851575e-01,  2.77628869e-01,  1.45501167e-01],\n",
       "        [-2.08088756e-02, -4.01266336e-01,  2.80315071e-01,\n",
       "          6.82277679e-02,  1.85911357e-02,  3.49586934e-01,\n",
       "         -4.15980130e-01, -1.19348586e-01,  8.82627070e-02,\n",
       "          3.82142991e-01,  3.70964974e-01, -1.65392458e-02],\n",
       "        [-1.53994620e-01,  2.53836185e-01, -3.84696424e-02,\n",
       "         -3.84624600e-02,  3.58922869e-01,  1.56617016e-01,\n",
       "         -1.66939735e-01, -2.48625249e-01,  1.21318251e-01,\n",
       "          6.62923455e-02,  2.82151014e-01,  3.20855528e-01],\n",
       "        [-1.07619464e-02, -4.17863786e-01, -3.95183682e-01,\n",
       "         -2.38841921e-01,  1.19474620e-01, -1.73038542e-01,\n",
       "         -1.58106506e-01,  2.96014547e-02,  7.49930739e-02,\n",
       "          2.68513471e-01, -2.25739643e-01, -1.26390070e-01],\n",
       "        [ 2.90948421e-01, -3.90942395e-02, -4.20001298e-01,\n",
       "         -3.59499961e-01, -3.05788785e-01,  3.99188489e-01,\n",
       "         -3.97324413e-01,  3.34501356e-01, -8.11529756e-02,\n",
       "         -3.99423182e-01,  1.50697798e-01,  1.71018809e-01],\n",
       "        [ 3.59671503e-01,  1.65492803e-01,  1.86351150e-01,\n",
       "         -7.21433461e-02,  7.88191259e-02, -3.82752240e-01,\n",
       "         -3.59294236e-01, -2.64875948e-01, -7.69525468e-02,\n",
       "          1.15210980e-01,  1.76074535e-01,  2.76467353e-01],\n",
       "        [ 2.30314046e-01, -1.60765439e-01,  5.01788855e-02,\n",
       "         -5.59448600e-02,  1.94122940e-01,  2.27707475e-01,\n",
       "         -2.13128120e-01,  4.17085856e-01, -4.00159031e-01,\n",
       "          3.60088795e-01, -3.06776226e-01, -1.64160520e-01],\n",
       "        [ 1.94713265e-01,  2.27645040e-03,  2.36956269e-01,\n",
       "          3.80487829e-01, -3.78298819e-01, -3.59764665e-01,\n",
       "         -1.99191138e-01, -1.71482921e-01, -9.09541249e-02,\n",
       "          1.09459728e-01,  1.62505537e-01,  2.40602285e-01],\n",
       "        [-7.27713406e-02, -2.19902396e-03,  2.66359061e-01,\n",
       "          2.01723248e-01, -2.27992833e-02,  2.17589349e-01,\n",
       "         -2.72772014e-01, -3.22714835e-01,  1.34013623e-01,\n",
       "         -4.00521904e-01, -3.06846946e-01,  2.01951414e-01],\n",
       "        [-2.30151206e-01,  3.07996273e-02, -2.49723256e-01,\n",
       "          4.11303669e-01,  2.82972306e-01, -1.33576125e-01,\n",
       "          1.94818407e-01, -5.34774065e-02, -3.29507798e-01,\n",
       "         -1.63548380e-01, -2.65878290e-01,  5.39092720e-02],\n",
       "        [ 3.83194715e-01,  3.61605138e-01, -8.73768628e-02,\n",
       "          2.20688671e-01,  4.10062939e-01,  4.15574104e-01,\n",
       "          1.35834426e-01,  2.54215151e-01,  1.44168526e-01,\n",
       "         -8.33618939e-02, -2.43908167e-03, -1.02605045e-01],\n",
       "        [ 1.97920352e-01,  3.02637070e-01, -2.23076999e-01,\n",
       "          2.19697028e-01,  6.40822947e-02,  3.45987350e-01,\n",
       "          2.93548375e-01,  2.90947109e-01,  2.20863849e-01,\n",
       "          7.72136450e-02, -4.65114713e-02, -9.43543017e-02],\n",
       "        [ 3.12458187e-01,  8.85319412e-02, -2.70572484e-01,\n",
       "          3.23283285e-01,  8.19279850e-02, -6.50462210e-02,\n",
       "         -2.45183706e-04,  2.83101290e-01,  2.51716644e-01,\n",
       "          1.75796956e-01, -2.13924050e-01, -1.75084919e-01],\n",
       "        [ 2.93754190e-01, -4.11313385e-01,  3.68981689e-01,\n",
       "          1.58100277e-01,  8.28091204e-02,  3.81205648e-01,\n",
       "          4.01408762e-01,  9.29465890e-03, -2.16559559e-01,\n",
       "          2.75742441e-01, -2.42242813e-01, -2.82673329e-01],\n",
       "        [ 3.59305173e-01,  1.41761690e-01, -3.15618873e-01,\n",
       "          2.75345415e-01, -3.06533039e-01,  4.16400999e-01,\n",
       "          1.81427985e-01, -3.18222046e-02, -1.37506157e-01,\n",
       "         -1.96020499e-01, -9.37813222e-02, -1.65574819e-01],\n",
       "        [-2.90601164e-01,  3.21469694e-01,  1.84783429e-01,\n",
       "         -3.42384636e-01, -1.98193580e-01, -9.90070403e-02,\n",
       "         -6.53330684e-02,  1.29995346e-02,  7.49316812e-02,\n",
       "         -7.62739778e-02, -9.01066959e-02, -1.04875594e-01]], dtype=float32)>,\n",
       " <tf.Variable 'dense_1/bias:0' shape=(12,) dtype=float32, numpy=array([0., 0., 0., 0., 0., 0., 0., 0., 0., 0., 0., 0.], dtype=float32)>,\n",
       " <tf.Variable 'dense_2/kernel:0' shape=(12, 3) dtype=float32, numpy=\n",
       " array([[ 0.13859993, -0.34968713,  0.5035644 ],\n",
       "        [ 0.13157153,  0.5202604 , -0.3255907 ],\n",
       "        [ 0.32431823,  0.05007768, -0.06005901],\n",
       "        [ 0.616775  , -0.43056077,  0.5729694 ],\n",
       "        [ 0.5427641 , -0.6255343 ,  0.3365811 ],\n",
       "        [-0.11563808,  0.13686001, -0.10083407],\n",
       "        [ 0.00880849, -0.3732158 ,  0.01845914],\n",
       "        [ 0.32252997,  0.429982  ,  0.15598625],\n",
       "        [-0.24991536, -0.63111305, -0.05380189],\n",
       "        [-0.33813125, -0.5042534 ,  0.5244698 ],\n",
       "        [-0.5126673 , -0.4185973 ,  0.36328   ],\n",
       "        [-0.09645241,  0.6035581 , -0.32016638]], dtype=float32)>,\n",
       " <tf.Variable 'dense_2/bias:0' shape=(3,) dtype=float32, numpy=array([0., 0., 0.], dtype=float32)>]"
      ]
     },
     "execution_count": 86,
     "metadata": {},
     "output_type": "execute_result"
    }
   ],
   "source": [
    "model.variables"
   ]
  },
  {
   "cell_type": "code",
   "execution_count": 87,
   "metadata": {
    "ExecuteTime": {
     "end_time": "2020-11-06T18:54:56.175640Z",
     "start_time": "2020-11-06T18:54:39.793210Z"
    }
   },
   "outputs": [
    {
     "name": "stdout",
     "output_type": "stream",
     "text": [
      "Epoch 1/150\n",
      "73/73 [==============================] - 0s 2ms/step - loss: 1.0168 - accuracy: 0.4778\n",
      "Epoch 2/150\n",
      "73/73 [==============================] - 0s 2ms/step - loss: 0.9745 - accuracy: 0.4778\n",
      "Epoch 3/150\n",
      "73/73 [==============================] - 0s 2ms/step - loss: 0.9468 - accuracy: 0.4778\n",
      "Epoch 4/150\n",
      "73/73 [==============================] - 0s 2ms/step - loss: 0.9277 - accuracy: 0.4778\n",
      "Epoch 5/150\n",
      "73/73 [==============================] - 0s 2ms/step - loss: 0.9126 - accuracy: 0.4778\n",
      "Epoch 6/150\n",
      "73/73 [==============================] - 0s 2ms/step - loss: 0.9001 - accuracy: 0.4834\n",
      "Epoch 7/150\n",
      "73/73 [==============================] - 0s 2ms/step - loss: 0.8887 - accuracy: 0.5388\n",
      "Epoch 8/150\n",
      "73/73 [==============================] - 0s 2ms/step - loss: 0.8773 - accuracy: 0.5803\n",
      "Epoch 9/150\n",
      "73/73 [==============================] - 0s 2ms/step - loss: 0.8658 - accuracy: 0.6247\n",
      "Epoch 10/150\n",
      "73/73 [==============================] - 0s 2ms/step - loss: 0.8528 - accuracy: 0.6496\n",
      "Epoch 11/150\n",
      "73/73 [==============================] - 0s 2ms/step - loss: 0.8387 - accuracy: 0.6620\n",
      "Epoch 12/150\n",
      "73/73 [==============================] - 0s 2ms/step - loss: 0.8234 - accuracy: 0.6607\n",
      "Epoch 13/150\n",
      "73/73 [==============================] - 0s 2ms/step - loss: 0.8070 - accuracy: 0.6759\n",
      "Epoch 14/150\n",
      "73/73 [==============================] - 0s 1ms/step - loss: 0.7896 - accuracy: 0.6842\n",
      "Epoch 15/150\n",
      "73/73 [==============================] - 0s 2ms/step - loss: 0.7721 - accuracy: 0.6898\n",
      "Epoch 16/150\n",
      "73/73 [==============================] - ETA: 0s - loss: 0.7543 - accuracy: 0.69 - 0s 2ms/step - loss: 0.7548 - accuracy: 0.6911\n",
      "Epoch 17/150\n",
      "73/73 [==============================] - 0s 2ms/step - loss: 0.7379 - accuracy: 0.7064: 0s - loss: 0.7399 - accuracy: 0.70\n",
      "Epoch 18/150\n",
      "73/73 [==============================] - 0s 2ms/step - loss: 0.7218 - accuracy: 0.7119\n",
      "Epoch 19/150\n",
      "73/73 [==============================] - 0s 2ms/step - loss: 0.7072 - accuracy: 0.7216\n",
      "Epoch 20/150\n",
      "73/73 [==============================] - 0s 1ms/step - loss: 0.6928 - accuracy: 0.7244\n",
      "Epoch 21/150\n",
      "73/73 [==============================] - 0s 1ms/step - loss: 0.6797 - accuracy: 0.7410\n",
      "Epoch 22/150\n",
      "73/73 [==============================] - 0s 1ms/step - loss: 0.6676 - accuracy: 0.7438\n",
      "Epoch 23/150\n",
      "73/73 [==============================] - 0s 1ms/step - loss: 0.6562 - accuracy: 0.7493\n",
      "Epoch 24/150\n",
      "73/73 [==============================] - 0s 2ms/step - loss: 0.6459 - accuracy: 0.7535\n",
      "Epoch 25/150\n",
      "73/73 [==============================] - 0s 1ms/step - loss: 0.6366 - accuracy: 0.7548\n",
      "Epoch 26/150\n",
      "73/73 [==============================] - 0s 1ms/step - loss: 0.6279 - accuracy: 0.7604\n",
      "Epoch 27/150\n",
      "73/73 [==============================] - 0s 1ms/step - loss: 0.6206 - accuracy: 0.7590\n",
      "Epoch 28/150\n",
      "73/73 [==============================] - 0s 1ms/step - loss: 0.6130 - accuracy: 0.7632\n",
      "Epoch 29/150\n",
      "73/73 [==============================] - 0s 1ms/step - loss: 0.6060 - accuracy: 0.7687\n",
      "Epoch 30/150\n",
      "73/73 [==============================] - 0s 1ms/step - loss: 0.6001 - accuracy: 0.7715\n",
      "Epoch 31/150\n",
      "73/73 [==============================] - 0s 1ms/step - loss: 0.5929 - accuracy: 0.7715\n",
      "Epoch 32/150\n",
      "73/73 [==============================] - 0s 1ms/step - loss: 0.5873 - accuracy: 0.7729\n",
      "Epoch 33/150\n",
      "73/73 [==============================] - 0s 1ms/step - loss: 0.5809 - accuracy: 0.7701\n",
      "Epoch 34/150\n",
      "73/73 [==============================] - 0s 1ms/step - loss: 0.5751 - accuracy: 0.7729\n",
      "Epoch 35/150\n",
      "73/73 [==============================] - 0s 1ms/step - loss: 0.5690 - accuracy: 0.7784\n",
      "Epoch 36/150\n",
      "73/73 [==============================] - 0s 1ms/step - loss: 0.5638 - accuracy: 0.7756\n",
      "Epoch 37/150\n",
      "73/73 [==============================] - 0s 1ms/step - loss: 0.5577 - accuracy: 0.7839\n",
      "Epoch 38/150\n",
      "73/73 [==============================] - 0s 2ms/step - loss: 0.5522 - accuracy: 0.7881\n",
      "Epoch 39/150\n",
      "73/73 [==============================] - 0s 1ms/step - loss: 0.5474 - accuracy: 0.7881\n",
      "Epoch 40/150\n",
      "73/73 [==============================] - 0s 2ms/step - loss: 0.5427 - accuracy: 0.7895\n",
      "Epoch 41/150\n",
      "73/73 [==============================] - 0s 1ms/step - loss: 0.5375 - accuracy: 0.7936\n",
      "Epoch 42/150\n",
      "73/73 [==============================] - 0s 1ms/step - loss: 0.5323 - accuracy: 0.7936\n",
      "Epoch 43/150\n",
      "73/73 [==============================] - 0s 1ms/step - loss: 0.5278 - accuracy: 0.7909\n",
      "Epoch 44/150\n",
      "73/73 [==============================] - 0s 1ms/step - loss: 0.5230 - accuracy: 0.8033\n",
      "Epoch 45/150\n",
      "73/73 [==============================] - 0s 2ms/step - loss: 0.5189 - accuracy: 0.8006\n",
      "Epoch 46/150\n",
      "73/73 [==============================] - 0s 1ms/step - loss: 0.5143 - accuracy: 0.7992\n",
      "Epoch 47/150\n",
      "73/73 [==============================] - 0s 2ms/step - loss: 0.5099 - accuracy: 0.8033\n",
      "Epoch 48/150\n",
      "73/73 [==============================] - 0s 2ms/step - loss: 0.5061 - accuracy: 0.8033\n",
      "Epoch 49/150\n",
      "73/73 [==============================] - 0s 2ms/step - loss: 0.5025 - accuracy: 0.8047\n",
      "Epoch 50/150\n",
      "73/73 [==============================] - 0s 2ms/step - loss: 0.4984 - accuracy: 0.8033\n",
      "Epoch 51/150\n",
      "73/73 [==============================] - 0s 2ms/step - loss: 0.4947 - accuracy: 0.8061\n",
      "Epoch 52/150\n",
      "73/73 [==============================] - 0s 2ms/step - loss: 0.4912 - accuracy: 0.8089\n",
      "Epoch 53/150\n",
      "73/73 [==============================] - ETA: 0s - loss: 0.4894 - accuracy: 0.80 - 0s 2ms/step - loss: 0.4878 - accuracy: 0.8075\n",
      "Epoch 54/150\n",
      "73/73 [==============================] - 0s 2ms/step - loss: 0.4846 - accuracy: 0.8186\n",
      "Epoch 55/150\n",
      "73/73 [==============================] - 0s 2ms/step - loss: 0.4814 - accuracy: 0.8186\n",
      "Epoch 56/150\n",
      "73/73 [==============================] - 0s 1ms/step - loss: 0.4777 - accuracy: 0.8199\n",
      "Epoch 57/150\n",
      "73/73 [==============================] - 0s 1ms/step - loss: 0.4745 - accuracy: 0.8186\n",
      "Epoch 58/150\n",
      "73/73 [==============================] - 0s 1ms/step - loss: 0.4716 - accuracy: 0.8186\n",
      "Epoch 59/150\n",
      "73/73 [==============================] - 0s 1ms/step - loss: 0.4679 - accuracy: 0.8199\n",
      "Epoch 60/150\n",
      "73/73 [==============================] - 0s 1ms/step - loss: 0.4645 - accuracy: 0.8213\n",
      "Epoch 61/150\n",
      "73/73 [==============================] - 0s 1ms/step - loss: 0.4608 - accuracy: 0.8213\n",
      "Epoch 62/150\n",
      "73/73 [==============================] - 0s 1ms/step - loss: 0.4577 - accuracy: 0.8213\n",
      "Epoch 63/150\n",
      "73/73 [==============================] - 0s 1ms/step - loss: 0.4544 - accuracy: 0.8255\n",
      "Epoch 64/150\n",
      "73/73 [==============================] - 0s 1ms/step - loss: 0.4511 - accuracy: 0.8255\n",
      "Epoch 65/150\n",
      "73/73 [==============================] - 0s 1ms/step - loss: 0.4481 - accuracy: 0.8283\n",
      "Epoch 66/150\n",
      "73/73 [==============================] - 0s 1ms/step - loss: 0.4450 - accuracy: 0.8283\n",
      "Epoch 67/150\n",
      "73/73 [==============================] - 0s 1ms/step - loss: 0.4419 - accuracy: 0.8310\n",
      "Epoch 68/150\n",
      "73/73 [==============================] - 0s 1ms/step - loss: 0.4389 - accuracy: 0.8338\n",
      "Epoch 69/150\n",
      "73/73 [==============================] - 0s 1ms/step - loss: 0.4361 - accuracy: 0.8352\n",
      "Epoch 70/150\n",
      "73/73 [==============================] - 0s 1ms/step - loss: 0.4330 - accuracy: 0.8366\n",
      "Epoch 71/150\n",
      "73/73 [==============================] - 0s 1ms/step - loss: 0.4305 - accuracy: 0.8366\n",
      "Epoch 72/150\n",
      "73/73 [==============================] - 0s 1ms/step - loss: 0.4283 - accuracy: 0.8393\n",
      "Epoch 73/150\n",
      "73/73 [==============================] - 0s 1ms/step - loss: 0.4257 - accuracy: 0.8421\n",
      "Epoch 74/150\n",
      "73/73 [==============================] - 0s 1ms/step - loss: 0.4231 - accuracy: 0.8435\n",
      "Epoch 75/150\n",
      "73/73 [==============================] - 0s 1ms/step - loss: 0.4211 - accuracy: 0.8366\n",
      "Epoch 76/150\n",
      "73/73 [==============================] - 0s 1ms/step - loss: 0.4181 - accuracy: 0.8463\n",
      "Epoch 77/150\n",
      "73/73 [==============================] - 0s 1ms/step - loss: 0.4161 - accuracy: 0.8463\n",
      "Epoch 78/150\n",
      "73/73 [==============================] - 0s 1ms/step - loss: 0.4138 - accuracy: 0.8476\n",
      "Epoch 79/150\n",
      "73/73 [==============================] - 0s 1ms/step - loss: 0.4125 - accuracy: 0.8490\n",
      "Epoch 80/150\n",
      "73/73 [==============================] - 0s 1ms/step - loss: 0.4097 - accuracy: 0.8490\n",
      "Epoch 81/150\n",
      "73/73 [==============================] - 0s 1ms/step - loss: 0.4076 - accuracy: 0.8490\n",
      "Epoch 82/150\n",
      "73/73 [==============================] - 0s 1ms/step - loss: 0.4059 - accuracy: 0.8504\n",
      "Epoch 83/150\n",
      "73/73 [==============================] - 0s 1ms/step - loss: 0.4043 - accuracy: 0.8532\n",
      "Epoch 84/150\n",
      "73/73 [==============================] - 0s 1ms/step - loss: 0.4023 - accuracy: 0.8532\n",
      "Epoch 85/150\n",
      "73/73 [==============================] - 0s 1ms/step - loss: 0.4004 - accuracy: 0.8573\n",
      "Epoch 86/150\n",
      "73/73 [==============================] - 0s 1ms/step - loss: 0.3987 - accuracy: 0.8560\n",
      "Epoch 87/150\n",
      "73/73 [==============================] - 0s 1ms/step - loss: 0.3966 - accuracy: 0.8573\n",
      "Epoch 88/150\n",
      "73/73 [==============================] - 0s 1ms/step - loss: 0.3957 - accuracy: 0.8587\n",
      "Epoch 89/150\n",
      "73/73 [==============================] - 0s 1ms/step - loss: 0.3934 - accuracy: 0.8615\n",
      "Epoch 90/150\n",
      "73/73 [==============================] - 0s 1ms/step - loss: 0.3917 - accuracy: 0.8587\n",
      "Epoch 91/150\n",
      "73/73 [==============================] - 0s 1ms/step - loss: 0.3902 - accuracy: 0.8615\n",
      "Epoch 92/150\n",
      "73/73 [==============================] - 0s 1ms/step - loss: 0.3880 - accuracy: 0.8573\n",
      "Epoch 93/150\n",
      "73/73 [==============================] - 0s 1ms/step - loss: 0.3861 - accuracy: 0.8643\n",
      "Epoch 94/150\n",
      "73/73 [==============================] - 0s 1ms/step - loss: 0.3839 - accuracy: 0.8615\n",
      "Epoch 95/150\n",
      "73/73 [==============================] - 0s 1ms/step - loss: 0.3814 - accuracy: 0.8615\n",
      "Epoch 96/150\n",
      "73/73 [==============================] - 0s 1ms/step - loss: 0.3794 - accuracy: 0.8629\n",
      "Epoch 97/150\n",
      "73/73 [==============================] - 0s 1ms/step - loss: 0.3775 - accuracy: 0.8643\n",
      "Epoch 98/150\n",
      "73/73 [==============================] - 0s 1ms/step - loss: 0.3761 - accuracy: 0.8657\n",
      "Epoch 99/150\n",
      "73/73 [==============================] - 0s 2ms/step - loss: 0.3744 - accuracy: 0.8643\n",
      "Epoch 100/150\n",
      "73/73 [==============================] - 0s 1ms/step - loss: 0.3731 - accuracy: 0.8643\n",
      "Epoch 101/150\n",
      "73/73 [==============================] - 0s 1ms/step - loss: 0.3718 - accuracy: 0.8657\n",
      "Epoch 102/150\n",
      "73/73 [==============================] - 0s 1ms/step - loss: 0.3704 - accuracy: 0.8670\n",
      "Epoch 103/150\n",
      "73/73 [==============================] - 0s 1ms/step - loss: 0.3686 - accuracy: 0.8670\n",
      "Epoch 104/150\n",
      "73/73 [==============================] - 0s 1ms/step - loss: 0.3678 - accuracy: 0.8643\n",
      "Epoch 105/150\n",
      "73/73 [==============================] - 0s 1ms/step - loss: 0.3657 - accuracy: 0.8670\n",
      "Epoch 106/150\n",
      "73/73 [==============================] - 0s 2ms/step - loss: 0.3643 - accuracy: 0.8684\n",
      "Epoch 107/150\n",
      "73/73 [==============================] - 0s 2ms/step - loss: 0.3630 - accuracy: 0.8684\n",
      "Epoch 108/150\n",
      "73/73 [==============================] - 0s 2ms/step - loss: 0.3619 - accuracy: 0.8684\n",
      "Epoch 109/150\n",
      "73/73 [==============================] - 0s 2ms/step - loss: 0.3610 - accuracy: 0.8657\n",
      "Epoch 110/150\n",
      "73/73 [==============================] - 0s 2ms/step - loss: 0.3596 - accuracy: 0.8670\n",
      "Epoch 111/150\n",
      "73/73 [==============================] - 0s 1ms/step - loss: 0.3578 - accuracy: 0.8684\n",
      "Epoch 112/150\n",
      "73/73 [==============================] - 0s 1ms/step - loss: 0.3561 - accuracy: 0.8698\n",
      "Epoch 113/150\n",
      "73/73 [==============================] - 0s 1ms/step - loss: 0.3560 - accuracy: 0.8657\n",
      "Epoch 114/150\n",
      "73/73 [==============================] - 0s 1ms/step - loss: 0.3538 - accuracy: 0.8698\n",
      "Epoch 115/150\n",
      "73/73 [==============================] - 0s 1ms/step - loss: 0.3527 - accuracy: 0.8712\n",
      "Epoch 116/150\n",
      "73/73 [==============================] - 0s 1ms/step - loss: 0.3513 - accuracy: 0.8726\n",
      "Epoch 117/150\n",
      "73/73 [==============================] - 0s 1ms/step - loss: 0.3497 - accuracy: 0.8684\n",
      "Epoch 118/150\n",
      "73/73 [==============================] - 0s 1ms/step - loss: 0.3486 - accuracy: 0.8740\n",
      "Epoch 119/150\n",
      "73/73 [==============================] - 0s 1ms/step - loss: 0.3474 - accuracy: 0.8684\n",
      "Epoch 120/150\n",
      "73/73 [==============================] - 0s 1ms/step - loss: 0.3458 - accuracy: 0.8670\n",
      "Epoch 121/150\n",
      "73/73 [==============================] - 0s 1ms/step - loss: 0.3448 - accuracy: 0.8740\n",
      "Epoch 122/150\n",
      "73/73 [==============================] - 0s 1ms/step - loss: 0.3432 - accuracy: 0.8726\n",
      "Epoch 123/150\n",
      "73/73 [==============================] - 0s 1ms/step - loss: 0.3419 - accuracy: 0.8740\n",
      "Epoch 124/150\n",
      "73/73 [==============================] - 0s 1ms/step - loss: 0.3412 - accuracy: 0.8712\n",
      "Epoch 125/150\n",
      "73/73 [==============================] - 0s 1ms/step - loss: 0.3399 - accuracy: 0.8767\n",
      "Epoch 126/150\n",
      "73/73 [==============================] - 0s 1ms/step - loss: 0.3384 - accuracy: 0.8753\n",
      "Epoch 127/150\n",
      "73/73 [==============================] - 0s 1ms/step - loss: 0.3377 - accuracy: 0.8767\n",
      "Epoch 128/150\n",
      "73/73 [==============================] - 0s 1ms/step - loss: 0.3358 - accuracy: 0.8795\n",
      "Epoch 129/150\n",
      "73/73 [==============================] - 0s 1ms/step - loss: 0.3349 - accuracy: 0.8781\n",
      "Epoch 130/150\n",
      "73/73 [==============================] - 0s 1ms/step - loss: 0.3338 - accuracy: 0.8781\n",
      "Epoch 131/150\n",
      "73/73 [==============================] - 0s 1ms/step - loss: 0.3320 - accuracy: 0.8767\n",
      "Epoch 132/150\n",
      "73/73 [==============================] - 0s 1ms/step - loss: 0.3316 - accuracy: 0.8781\n",
      "Epoch 133/150\n",
      "73/73 [==============================] - 0s 1ms/step - loss: 0.3308 - accuracy: 0.8795\n",
      "Epoch 134/150\n",
      "73/73 [==============================] - 0s 1ms/step - loss: 0.3291 - accuracy: 0.8823\n",
      "Epoch 135/150\n",
      "73/73 [==============================] - 0s 1ms/step - loss: 0.3277 - accuracy: 0.8795\n",
      "Epoch 136/150\n",
      "73/73 [==============================] - 0s 1ms/step - loss: 0.3277 - accuracy: 0.8809\n",
      "Epoch 137/150\n",
      "73/73 [==============================] - 0s 1ms/step - loss: 0.3257 - accuracy: 0.8809\n",
      "Epoch 138/150\n",
      "73/73 [==============================] - 0s 1ms/step - loss: 0.3248 - accuracy: 0.8823\n",
      "Epoch 139/150\n",
      "73/73 [==============================] - 0s 1ms/step - loss: 0.3231 - accuracy: 0.8823\n",
      "Epoch 140/150\n",
      "73/73 [==============================] - 0s 2ms/step - loss: 0.3223 - accuracy: 0.8850\n",
      "Epoch 141/150\n",
      "73/73 [==============================] - 0s 1ms/step - loss: 0.3213 - accuracy: 0.8850\n",
      "Epoch 142/150\n",
      "73/73 [==============================] - 0s 1ms/step - loss: 0.3204 - accuracy: 0.8878\n",
      "Epoch 143/150\n",
      "73/73 [==============================] - 0s 1ms/step - loss: 0.3189 - accuracy: 0.8864\n",
      "Epoch 144/150\n",
      "73/73 [==============================] - 0s 1ms/step - loss: 0.3189 - accuracy: 0.8892\n",
      "Epoch 145/150\n",
      "73/73 [==============================] - 0s 1ms/step - loss: 0.3174 - accuracy: 0.8892\n",
      "Epoch 146/150\n",
      "73/73 [==============================] - 0s 1ms/step - loss: 0.3169 - accuracy: 0.8864\n",
      "Epoch 147/150\n",
      "73/73 [==============================] - 0s 1ms/step - loss: 0.3154 - accuracy: 0.8892\n",
      "Epoch 148/150\n",
      "73/73 [==============================] - 0s 1ms/step - loss: 0.3147 - accuracy: 0.8920\n",
      "Epoch 149/150\n",
      "73/73 [==============================] - 0s 1ms/step - loss: 0.3143 - accuracy: 0.8906\n",
      "Epoch 150/150\n",
      "73/73 [==============================] - 0s 1ms/step - loss: 0.3133 - accuracy: 0.8934\n"
     ]
    },
    {
     "data": {
      "text/plain": [
       "<tensorflow.python.keras.callbacks.History at 0x24fa9deb5c8>"
      ]
     },
     "execution_count": 87,
     "metadata": {},
     "output_type": "execute_result"
    }
   ],
   "source": [
    "model.fit(X_train,Y_train, epochs = 150, batch_size = 10, verbose = True)"
   ]
  },
  {
   "cell_type": "code",
   "execution_count": 88,
   "metadata": {
    "ExecuteTime": {
     "end_time": "2020-11-06T18:54:56.460909Z",
     "start_time": "2020-11-06T18:54:56.178635Z"
    }
   },
   "outputs": [
    {
     "name": "stdout",
     "output_type": "stream",
     "text": [
      "23/23 [==============================] - 0s 1ms/step - loss: 0.3103 - accuracy: 0.8961\n",
      "[0.310250461101532, 0.8961218595504761]\n"
     ]
    }
   ],
   "source": [
    "## evaluate model\n",
    "\n",
    "params = model.evaluate(X_train,Y_train)\n",
    "print(params)\n",
    "\n",
    "#The first is  the loss of the model on the dataset \n",
    "#the second will be the accuracy of the model on the dataset."
   ]
  },
  {
   "cell_type": "code",
   "execution_count": 89,
   "metadata": {
    "ExecuteTime": {
     "end_time": "2020-11-06T18:54:56.634678Z",
     "start_time": "2020-11-06T18:54:56.463902Z"
    }
   },
   "outputs": [
    {
     "data": {
      "text/plain": [
       "array([[0.03480188, 0.00157933, 0.9636188 ],\n",
       "       [0.5588779 , 0.43942186, 0.00170031],\n",
       "       [0.54699343, 0.45134965, 0.00165685],\n",
       "       ...,\n",
       "       [0.8467022 , 0.14909619, 0.00420156],\n",
       "       [0.09369875, 0.00380752, 0.9024937 ],\n",
       "       [0.03339589, 0.00152079, 0.96508324]], dtype=float32)"
      ]
     },
     "execution_count": 89,
     "metadata": {},
     "output_type": "execute_result"
    }
   ],
   "source": [
    "## In terms of probability prediction with model\n",
    "\n",
    "prediction = model.predict(X_test)\n",
    "prediction"
   ]
  },
  {
   "cell_type": "code",
   "execution_count": 90,
   "metadata": {
    "ExecuteTime": {
     "end_time": "2020-11-06T18:54:56.647645Z",
     "start_time": "2020-11-06T18:54:56.637671Z"
    }
   },
   "outputs": [
    {
     "data": {
      "text/plain": [
       "array([2, 0, 0, ..., 0, 2, 2], dtype=int64)"
      ]
     },
     "execution_count": 90,
     "metadata": {},
     "output_type": "execute_result"
    }
   ],
   "source": [
    "prediction = np.argmax(prediction, axis=1)\n",
    "prediction"
   ]
  },
  {
   "cell_type": "code",
   "execution_count": 91,
   "metadata": {
    "ExecuteTime": {
     "end_time": "2020-11-06T18:54:56.664597Z",
     "start_time": "2020-11-06T18:54:56.650635Z"
    }
   },
   "outputs": [
    {
     "data": {
      "text/plain": [
       "array([2, 1, 0, ..., 0, 2, 2], dtype=int64)"
      ]
     },
     "execution_count": 91,
     "metadata": {},
     "output_type": "execute_result"
    }
   ],
   "source": [
    "Y_test = np.argmax(Y_test,axis = 1)\n",
    "Y_test"
   ]
  },
  {
   "cell_type": "code",
   "execution_count": 92,
   "metadata": {
    "ExecuteTime": {
     "end_time": "2020-11-06T18:54:56.680559Z",
     "start_time": "2020-11-06T18:54:56.668586Z"
    }
   },
   "outputs": [
    {
     "data": {
      "text/plain": [
       "0.8268090154211151"
      ]
     },
     "execution_count": 92,
     "metadata": {},
     "output_type": "execute_result"
    }
   ],
   "source": [
    "accuracy_score(prediction,Y_test)"
   ]
  },
  {
   "cell_type": "markdown",
   "metadata": {},
   "source": [
    "### From keras , We got 82 percent accuracy on testing dataset"
   ]
  },
  {
   "cell_type": "code",
   "execution_count": null,
   "metadata": {},
   "outputs": [],
   "source": []
  }
 ],
 "metadata": {
  "kernelspec": {
   "display_name": "Python 3",
   "language": "python",
   "name": "python3"
  },
  "language_info": {
   "codemirror_mode": {
    "name": "ipython",
    "version": 3
   },
   "file_extension": ".py",
   "mimetype": "text/x-python",
   "name": "python",
   "nbconvert_exporter": "python",
   "pygments_lexer": "ipython3",
   "version": "3.7.6"
  },
  "varInspector": {
   "cols": {
    "lenName": 16,
    "lenType": 16,
    "lenVar": 40
   },
   "kernels_config": {
    "python": {
     "delete_cmd_postfix": "",
     "delete_cmd_prefix": "del ",
     "library": "var_list.py",
     "varRefreshCmd": "print(var_dic_list())"
    },
    "r": {
     "delete_cmd_postfix": ") ",
     "delete_cmd_prefix": "rm(",
     "library": "var_list.r",
     "varRefreshCmd": "cat(var_dic_list()) "
    }
   },
   "types_to_exclude": [
    "module",
    "function",
    "builtin_function_or_method",
    "instance",
    "_Feature"
   ],
   "window_display": false
  }
 },
 "nbformat": 4,
 "nbformat_minor": 4
}
